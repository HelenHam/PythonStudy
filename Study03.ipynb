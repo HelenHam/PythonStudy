{
 "cells": [
  {
   "cell_type": "code",
   "execution_count": null,
   "metadata": {},
   "outputs": [
    {
     "name": "stdout",
     "output_type": "stream",
     "text": [
      "3과 같습니다.\n"
     ]
    }
   ],
   "source": [
    "a = 3\n",
    "\n",
    "if a > 3:\n",
    "    print(\"3보다 큽니다.\")\n",
    "elif a == 3:\n",
    "    print(\"3과 같습니다.\")\n",
    "else:\n",
    "    print(\"3보다 작습니다.\")"
   ]
  },
  {
   "cell_type": "code",
   "execution_count": 1,
   "metadata": {},
   "outputs": [],
   "source": [
    "while 0:\n",
    "    print(\"출력\")"
   ]
  },
  {
   "cell_type": "code",
   "execution_count": 19,
   "metadata": {},
   "outputs": [
    {
     "name": "stdout",
     "output_type": "stream",
     "text": [
      "0번째 출력\n",
      "1번째 출력\n",
      "2번째 출력\n",
      "3번째 출력\n",
      "4번째 출력\n"
     ]
    }
   ],
   "source": [
    "a = True\n",
    "count = 0\n",
    "\n",
    "while a:\n",
    "    print(f\"{count}번째 출력\")\n",
    "    count += 1\n",
    "    if count >= 5:\n",
    "        a = False\n",
    "\n",
    "# count = 0\n",
    "\n",
    "# while count < 5:\n",
    "    # print(\"출력\")\n",
    "    # count += 1\n"
   ]
  },
  {
   "cell_type": "code",
   "execution_count": 20,
   "metadata": {},
   "outputs": [
    {
     "name": "stdout",
     "output_type": "stream",
     "text": [
      "출력0\n",
      "출력1\n",
      "출력2\n",
      "출력3\n",
      "출력4\n"
     ]
    }
   ],
   "source": [
    "b = 0\n",
    "while b < 5:\n",
    "    print(f\"출력{b}\")\n",
    "    b+=1"
   ]
  }
 ],
 "metadata": {
  "kernelspec": {
   "display_name": "Python 3",
   "language": "python",
   "name": "python3"
  },
  "language_info": {
   "codemirror_mode": {
    "name": "ipython",
    "version": 3
   },
   "file_extension": ".py",
   "mimetype": "text/x-python",
   "name": "python",
   "nbconvert_exporter": "python",
   "pygments_lexer": "ipython3",
   "version": "3.11.9"
  }
 },
 "nbformat": 4,
 "nbformat_minor": 2
}
