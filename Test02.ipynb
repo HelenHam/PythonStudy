{
 "cells": [
  {
   "cell_type": "code",
   "execution_count": 67,
   "metadata": {},
   "outputs": [
    {
     "name": "stdout",
     "output_type": "stream",
     "text": [
      "짝수 배열: [12, 18, 24, 44, 98]\n",
      "홀수 배열: [5, 15, 35, 47, 47, 55, 79, 87]\n",
      "짝수 배열의 평균값: 39.2\n",
      "홀수 배열의 평균값: 46.25\n"
     ]
    }
   ],
   "source": [
    "#Q6. 옆사람과 서로 다른 문제를 만들고 풀어보기 (시간: ~12:00까지 각자 문제 내기)\n",
    "# 문제: 아래 배열에서 홀수와 짝수를 따로 반환하고 각 배열을 오름차순 정렬해 출력한 뒤 각 배열의 평균값을 구하시오.\n",
    "\n",
    "arr = [18,44,87,35,15,24,79,12,55,47,47,98,5]\n",
    "arra = []\n",
    "arrb = []\n",
    "\n",
    "for i in arr:\n",
    "    if i % 2 == 0:\n",
    "        arra.append(i)\n",
    "    else:\n",
    "        arrb.append(i)\n",
    "\n",
    "def bubble_sort(arra):\n",
    "    for i in range(len(arra)):\n",
    "        for j in range(len(arra)-i-1):\n",
    "            if arra[j] > arra[j+1]:\n",
    "                arra[j], arra[j+1] = arra[j+1], arra[j]\n",
    "    return arra\n",
    "\n",
    "def bubble_sort(arrb):\n",
    "    for i in range(len(arrb)):\n",
    "        for j in range(len(arrb)-i-1):\n",
    "            if arrb[j] > arrb[j+1]:\n",
    "                arrb[j], arrb[j+1] = arrb[j+1], arrb[j]\n",
    "    return arrb\n",
    "\n",
    "bubblea = bubble_sort(arra)\n",
    "bubbleb = bubble_sort(arrb)\n",
    "\n",
    "print(\"짝수 배열: {}\".format(arra))\n",
    "print(\"홀수 배열: {}\".format(arrb))\n",
    "\n",
    "totala = 0\n",
    "totalb = 0\n",
    "\n",
    "for i in arra:\n",
    "    totala += i\n",
    "for i in arrb:\n",
    "    totalb += i\n",
    "\n",
    "avera = totala / len(arra)\n",
    "averb = totalb / len(arrb)\n",
    "\n",
    "print(\"짝수 배열의 평균값: \" + str(avera))\n",
    "print(\"홀수 배열의 평균값: \" + str(averb))\n"
   ]
  },
  {
   "cell_type": "code",
   "execution_count": 66,
   "metadata": {},
   "outputs": [
    {
     "name": "stdout",
     "output_type": "stream",
     "text": [
      "짝수 배열: [12, 18, 24, 44, 98]\n",
      "홀수 배열: [5, 15, 35, 47, 47, 55, 79, 87]\n",
      "짝수 배열의 평균값: 39.2\n",
      "홀수 배열의 평균값: 46.25\n"
     ]
    }
   ],
   "source": [
    "#Q6. 옆사람과 서로 다른 문제를 만들고 풀어보기 (시간: ~12:00까지 각자 문제 내기)\n",
    "# 문제: 아래 배열에서 홀수와 짝수를 따로 반환하고 각 배열을 오름차순 정렬해 출력한 뒤 각 배열의 평균값을 구하시오.\n",
    "\n",
    "arr = [18,44,87,35,15,24,79,12,55,47,47,98,5]\n",
    "arra = []\n",
    "arrb = []\n",
    "\n",
    "for i in arr:\n",
    "    if i % 2 == 0:\n",
    "        arra.append(i)\n",
    "    else:\n",
    "        arrb.append(i)\n",
    "\n",
    "def bubble_sort(array):\n",
    "    for i in range(len(array)):\n",
    "        for j in range(len(array)-i-1):\n",
    "            if array[j] > array[j+1]:\n",
    "                array[j], array[j+1] = array[j+1], array[j]\n",
    "    return array\n",
    "\n",
    "bubblea = bubble_sort(arra)\n",
    "bubbleb = bubble_sort(arrb)\n",
    "\n",
    "print(\"짝수 배열: {}\".format(arra))\n",
    "print(\"홀수 배열: {}\".format(arrb))\n",
    "\n",
    "def average(any):\n",
    "    sumall = 0\n",
    "    for i in any:\n",
    "        sumall += i\n",
    "    return sumall / len(any)\n",
    "\n",
    "avera = average(arra)\n",
    "averb = average(arrb)\n",
    "\n",
    "print(\"짝수 배열의 평균값: \" + str(avera))\n",
    "print(\"홀수 배열의 평균값: \" + str(averb))\n"
   ]
  },
  {
   "cell_type": "code",
   "execution_count": 40,
   "metadata": {},
   "outputs": [
    {
     "name": "stdout",
     "output_type": "stream",
     "text": [
      "평균 점수 이상인 학생 목록\n",
      "\n",
      "이름: 강감찬\n",
      "점수: 99\n",
      "이름: 이성계\n",
      "점수: 87\n"
     ]
    }
   ],
   "source": [
    "# 아래의 2차원 배열의 표에서 평균 값을 구한 후 평균 값 이상인 학생만 구하시오.\n",
    "\n",
    "arr2 = [\n",
    "    [\"홍길동\", 80],\n",
    "    [\"류관순\", 76],\n",
    "    [\"강감찬\", 99],\n",
    "    [\"이성계\", 87],\n",
    "    [\"이황\", 68]\n",
    "]\n",
    "\n",
    "total = 0\n",
    "\n",
    "for i in arr2:\n",
    "    total += i[1]\n",
    "\n",
    "average = total / len(arr2)\n",
    "vs = arr2[0]\n",
    "\n",
    "print(\"평균 점수 이상인 학생 목록\"\"\\n\")\n",
    "\n",
    "for i in arr2:\n",
    "    if i[1] >= average:\n",
    "        print(\"이름: {}\".format(i[0]))\n",
    "        print(\"점수: {}\".format(i[1]))\n"
   ]
  },
  {
   "cell_type": "code",
   "execution_count": 68,
   "metadata": {},
   "outputs": [
    {
     "name": "stdout",
     "output_type": "stream",
     "text": [
      "['charlie', 'foxtrot']\n"
     ]
    }
   ],
   "source": [
    "#다음 소스 코드를 완성하여 리스트 a에 들어있는 문자열 중에서 길이가 7인 것들만 리스트 형태로 출력되게 만드세요(리스트 표현식 사용).\n",
    "\n",
    "\n",
    "a = ['alpha', 'bravo', 'charlie', 'delta', 'echo', 'foxtrot', 'golf', 'hotel', 'india']\n",
    "b = [                           ]\n",
    "\n",
    "for i in a:\n",
    "    if len(i) == 7:\n",
    "        b.append(i)\n",
    " \n",
    "print(b)"
   ]
  },
  {
   "cell_type": "code",
   "execution_count": 77,
   "metadata": {},
   "outputs": [
    {
     "name": "stdout",
     "output_type": "stream",
     "text": [
      "['감자칩', '새우깡', '도리토스', '건전지', '양말']\n"
     ]
    }
   ],
   "source": [
    "#myString을 myArray리스트에 각각 잘라서 넣으시오.\n",
    "myString = \"감자칩/새우깡/도리토스/건전지/양말\"\n",
    "myArray = myString.split('/')\n",
    "\n",
    "print(myArray)"
   ]
  },
  {
   "cell_type": "code",
   "execution_count": 82,
   "metadata": {},
   "outputs": [
    {
     "name": "stdout",
     "output_type": "stream",
     "text": [
      "[1, 3, 5, 7, 9]\n",
      "[2, 4, 6, 8, 10]\n"
     ]
    }
   ],
   "source": [
    "#1~10 까지의 수를 홀수와 짝수로 구분 하시오\n",
    "\n",
    "num = [1,2,3,4,5,6,7,8,9,10]\n",
    "num1 = []\n",
    "num2 = []\n",
    "\n",
    "for i in num:\n",
    "    if i % 2 != 0:\n",
    "        num1.append(i)\n",
    "    else:\n",
    "        num2.append(i)\n",
    "\n",
    "print(num1)\n",
    "print(num2)"
   ]
  }
 ],
 "metadata": {
  "kernelspec": {
   "display_name": "Python 3",
   "language": "python",
   "name": "python3"
  },
  "language_info": {
   "codemirror_mode": {
    "name": "ipython",
    "version": 3
   },
   "file_extension": ".py",
   "mimetype": "text/x-python",
   "name": "python",
   "nbconvert_exporter": "python",
   "pygments_lexer": "ipython3",
   "version": "3.11.9"
  }
 },
 "nbformat": 4,
 "nbformat_minor": 2
}
