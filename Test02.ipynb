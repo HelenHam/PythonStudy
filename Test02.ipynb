{
 "cells": [
  {
   "cell_type": "code",
   "execution_count": null,
   "metadata": {},
   "outputs": [
    {
     "name": "stdout",
     "output_type": "stream",
     "text": [
      "짝수 배열: [12, 18, 24, 44, 98]\n",
      "홀수 배열: [5, 15, 35, 47, 47, 55, 79, 87]\n",
      "짝수 배열의 평균값: 39.2\n",
      "홀수 배열의 평균값: 46.25\n"
     ]
    }
   ],
   "source": [
    "# 문제: 아래 배열에서 홀수와 짝수를 따로 반환하고 각 배열을 오름차순 정렬해 출력한 뒤 각 배열의 평균값을 구하시오.\n",
    "\n",
    "arr = [18,44,87,35,15,24,79,12,55,47,47,98,5]\n",
    "arra = []\n",
    "arrb = []\n",
    "\n",
    "for i in arr:\n",
    "    if i % 2 == 0:\n",
    "        arra.append(i)\n",
    "    else:\n",
    "        arrb.append(i)\n",
    "\n",
    "def bubble_sort(arra):\n",
    "    for i in range(len(arra)):\n",
    "        for j in range(len(arra)-i-1):\n",
    "            if arra[j] > arra[j+1]:\n",
    "                arra[j], arra[j+1] = arra[j+1], arra[j]\n",
    "    return arra\n",
    "\n",
    "def bubble_sort(arrb):\n",
    "    for i in range(len(arrb)):\n",
    "        for j in range(len(arrb)-i-1):\n",
    "            if arrb[j] > arrb[j+1]:\n",
    "                arrb[j], arrb[j+1] = arrb[j+1], arrb[j]\n",
    "    return arrb\n",
    "\n",
    "bubblea = bubble_sort(arra)\n",
    "bubbleb = bubble_sort(arrb)\n",
    "\n",
    "print(\"짝수 배열: {}\".format(bubblea))\n",
    "print(\"홀수 배열: {}\".format(bubbleb))\n",
    "\n",
    "totala = 0\n",
    "totalb = 0\n",
    "\n",
    "for i in arra:\n",
    "    totala += i\n",
    "for i in arrb:\n",
    "    totalb += i\n",
    "\n",
    "avera = totala / len(arra)\n",
    "averb = totalb / len(arrb)\n",
    "\n",
    "print(\"짝수 배열의 평균값: \" + str(avera))\n",
    "print(\"홀수 배열의 평균값: \" + str(averb))\n"
   ]
  },
  {
   "cell_type": "code",
   "execution_count": null,
   "metadata": {},
   "outputs": [
    {
     "name": "stdout",
     "output_type": "stream",
     "text": [
      "짝수 배열: [12, 18, 24, 44, 98]\n",
      "홀수 배열: [5, 15, 35, 47, 47, 55, 79, 87]\n",
      "짝수 배열의 평균값: 39.2\n",
      "홀수 배열의 평균값: 46.25\n"
     ]
    }
   ],
   "source": [
    "# 문제: 아래 배열에서 홀수와 짝수를 따로 반환하고 각 배열을 오름차순 정렬해 출력한 뒤 각 배열의 평균값을 구하시오.\n",
    "# 함수 사용해 간략화한 버전\n",
    "\n",
    "arr = [18,44,87,35,15,24,79,12,55,47,47,98,5]\n",
    "arra = []\n",
    "arrb = []\n",
    "\n",
    "for i in arr:\n",
    "    if i % 2 == 0:\n",
    "        arra.append(i)\n",
    "    else:\n",
    "        arrb.append(i)\n",
    "\n",
    "def bubble_sort(array):\n",
    "    for i in range(len(array)):\n",
    "        for j in range(len(array)-i-1):\n",
    "            if array[j] > array[j+1]:\n",
    "                array[j], array[j+1] = array[j+1], array[j]\n",
    "    return array\n",
    "\n",
    "bubblea = bubble_sort(arra)\n",
    "bubbleb = bubble_sort(arrb)\n",
    "\n",
    "print(\"짝수 배열: {}\".format(bubblea))\n",
    "print(\"홀수 배열: {}\".format(bubbleb))\n",
    "\n",
    "def average(any):\n",
    "    return sum(any) / len(any)\n",
    "\n",
    "avera = average(arra)\n",
    "averb = average(arrb)\n",
    "\n",
    "print(\"짝수 배열의 평균값: \" + str(avera))\n",
    "print(\"홀수 배열의 평균값: \" + str(averb))\n"
   ]
  },
  {
   "cell_type": "code",
   "execution_count": 83,
   "metadata": {},
   "outputs": [
    {
     "name": "stdout",
     "output_type": "stream",
     "text": [
      "평균 점수 이상인 학생 목록\n",
      "\n",
      "이름: 강감찬\n",
      "점수: 99\n",
      "이름: 이성계\n",
      "점수: 87\n"
     ]
    }
   ],
   "source": [
    "# 아래의 2차원 배열의 표에서 평균 값을 구한 후 평균 값 이상인 학생만 구하시오.\n",
    "\n",
    "arr2 = [\n",
    "    [\"홍길동\", 80],\n",
    "    [\"류관순\", 76],\n",
    "    [\"강감찬\", 99],\n",
    "    [\"이성계\", 87],\n",
    "    [\"이황\", 68]\n",
    "]\n",
    "\n",
    "total = 0\n",
    "\n",
    "for i in arr2:\n",
    "    total += i[1]\n",
    "\n",
    "average = total / len(arr2)\n",
    "vs = arr2[0]\n",
    "\n",
    "print(\"평균 점수 이상인 학생 목록\\n\")\n",
    "\n",
    "for i in arr2:\n",
    "    if i[1] >= average:\n",
    "        print(\"이름: {}\".format(i[0]))\n",
    "        print(\"점수: {}\".format(i[1]))\n"
   ]
  },
  {
   "cell_type": "code",
   "execution_count": 68,
   "metadata": {},
   "outputs": [
    {
     "name": "stdout",
     "output_type": "stream",
     "text": [
      "['charlie', 'foxtrot']\n"
     ]
    }
   ],
   "source": [
    "#다음 소스 코드를 완성하여 리스트 a에 들어있는 문자열 중에서 길이가 7인 것들만 리스트 형태로 출력되게 만드세요(리스트 표현식 사용).\n",
    "\n",
    "\n",
    "a = ['alpha', 'bravo', 'charlie', 'delta', 'echo', 'foxtrot', 'golf', 'hotel', 'india']\n",
    "b = [                           ]\n",
    "\n",
    "for i in a:\n",
    "    if len(i) == 7:\n",
    "        b.append(i)\n",
    " \n",
    "print(b)"
   ]
  },
  {
   "cell_type": "code",
   "execution_count": 77,
   "metadata": {},
   "outputs": [
    {
     "name": "stdout",
     "output_type": "stream",
     "text": [
      "['감자칩', '새우깡', '도리토스', '건전지', '양말']\n"
     ]
    }
   ],
   "source": [
    "#myString을 myArray리스트에 각각 잘라서 넣으시오.\n",
    "myString = \"감자칩/새우깡/도리토스/건전지/양말\"\n",
    "myArray = myString.split('/')\n",
    "\n",
    "print(myArray)"
   ]
  },
  {
   "cell_type": "code",
   "execution_count": 82,
   "metadata": {},
   "outputs": [
    {
     "name": "stdout",
     "output_type": "stream",
     "text": [
      "[1, 3, 5, 7, 9]\n",
      "[2, 4, 6, 8, 10]\n"
     ]
    }
   ],
   "source": [
    "#1~10 까지의 수를 홀수와 짝수로 구분 하시오\n",
    "\n",
    "num = [1,2,3,4,5,6,7,8,9,10]\n",
    "num1 = []\n",
    "num2 = []\n",
    "\n",
    "for i in num:\n",
    "    if i % 2 != 0:\n",
    "        num1.append(i)\n",
    "    else:\n",
    "        num2.append(i)\n",
    "\n",
    "print(num1)\n",
    "print(num2)"
   ]
  },
  {
   "cell_type": "code",
   "execution_count": 130,
   "metadata": {},
   "outputs": [
    {
     "name": "stdout",
     "output_type": "stream",
     "text": [
      "[['B', 93], ['D', 89]]\n",
      "[['A', 79], ['C', 75], ['E', 81]]\n",
      "['B', 93]\n",
      "['C', 75]\n"
     ]
    }
   ],
   "source": [
    "# 5. 아래의 2차원 배열의 표에서 점수 평균을 구하시고, 가장 점수가 높은 학생과 가장 점수가 낮은 학생을 구하시오.\n",
    "arr = [\n",
    "    [\"A\", 79],\n",
    "    [\"B\", 93],\n",
    "    [\"C\", 75],\n",
    "    [\"D\", 89],\n",
    "    [\"E\", 81],\n",
    "]\n",
    "\n",
    "sumall = 0\n",
    "\n",
    "for i in arr:\n",
    "    sumall += i[1]\n",
    "\n",
    "aver = sumall / len(arr)\n",
    "high = []\n",
    "low = []\n",
    "\n",
    "for i in arr:\n",
    "    if i[1] > aver:\n",
    "        high.append(i)\n",
    "    if i[1] < aver:\n",
    "        low.append(i)\n",
    "\n",
    "print(high)\n",
    "print(low)\n",
    "\n",
    "def 정렬(list):\n",
    "    for i in range(len(list)):\n",
    "        for j in range(len(list) -1 -i):\n",
    "            if list[j][1] > list[j + 1][1]:\n",
    "                나도쉬었다갈게 = list[j]\n",
    "                list[j] = list[j+1]\n",
    "                list[j+1] = 나도쉬었다갈게\n",
    "    return list\n",
    "\n",
    "highsort = bubble_sort(high)\n",
    "lowsort = bubble_sort(low)\n",
    "\n",
    "print(highsort[0])\n",
    "print(lowsort[-2])"
   ]
  },
  {
   "cell_type": "code",
   "execution_count": null,
   "metadata": {},
   "outputs": [],
   "source": [
    "# 6. 아래 친구들의 성적 배열을 보고 고득점 순으로 배열을 정렬하세요.\n",
    "성적 = [[\"철수\",90], [\"영희\", 25], [\"민지\",67], [\"영철\",45], [\"민수\",80]]\n",
    "\n"
   ]
  },
  {
   "cell_type": "code",
   "execution_count": 113,
   "metadata": {},
   "outputs": [
    {
     "name": "stdout",
     "output_type": "stream",
     "text": [
      "1 * 1 = 1\n",
      "1 * 2 = 2\n",
      "1 * 3 = 3\n",
      "1 * 4 = 4\n",
      "1 * 5 = 5\n",
      "1 * 6 = 6\n",
      "1 * 7 = 7\n",
      "1 * 8 = 8\n",
      "1 * 9 = 9\n",
      "\n",
      "2 * 1 = 2\n",
      "2 * 2 = 4\n",
      "2 * 3 = 6\n",
      "2 * 4 = 8\n",
      "2 * 5 = 10\n",
      "2 * 6 = 12\n",
      "2 * 7 = 14\n",
      "2 * 8 = 16\n",
      "2 * 9 = 18\n",
      "\n",
      "3 * 1 = 3\n",
      "3 * 2 = 6\n",
      "3 * 3 = 9\n",
      "3 * 4 = 12\n",
      "3 * 5 = 15\n",
      "3 * 6 = 18\n",
      "3 * 7 = 21\n",
      "3 * 8 = 24\n",
      "3 * 9 = 27\n",
      "\n",
      "4 * 1 = 4\n",
      "4 * 2 = 8\n",
      "4 * 3 = 12\n",
      "4 * 4 = 16\n",
      "4 * 5 = 20\n",
      "4 * 6 = 24\n",
      "4 * 7 = 28\n",
      "4 * 8 = 32\n",
      "4 * 9 = 36\n",
      "\n",
      "5 * 1 = 5\n",
      "5 * 2 = 10\n",
      "5 * 3 = 15\n",
      "5 * 4 = 20\n",
      "5 * 5 = 25\n",
      "5 * 6 = 30\n",
      "5 * 7 = 35\n",
      "5 * 8 = 40\n",
      "5 * 9 = 45\n",
      "\n",
      "6 * 1 = 6\n",
      "6 * 2 = 12\n",
      "6 * 3 = 18\n",
      "6 * 4 = 24\n",
      "6 * 5 = 30\n",
      "6 * 6 = 36\n",
      "6 * 7 = 42\n",
      "6 * 8 = 48\n",
      "6 * 9 = 54\n",
      "\n",
      "7 * 1 = 7\n",
      "7 * 2 = 14\n",
      "7 * 3 = 21\n",
      "7 * 4 = 28\n",
      "7 * 5 = 35\n",
      "7 * 6 = 42\n",
      "7 * 7 = 49\n",
      "7 * 8 = 56\n",
      "7 * 9 = 63\n",
      "\n",
      "8 * 1 = 8\n",
      "8 * 2 = 16\n",
      "8 * 3 = 24\n",
      "8 * 4 = 32\n",
      "8 * 5 = 40\n",
      "8 * 6 = 48\n",
      "8 * 7 = 56\n",
      "8 * 8 = 64\n",
      "8 * 9 = 72\n",
      "\n",
      "9 * 1 = 9\n",
      "9 * 2 = 18\n",
      "9 * 3 = 27\n",
      "9 * 4 = 36\n",
      "9 * 5 = 45\n",
      "9 * 6 = 54\n",
      "9 * 7 = 63\n",
      "9 * 8 = 72\n",
      "9 * 9 = 81\n",
      "\n"
     ]
    }
   ],
   "source": [
    "# 8. 아래 배열을 사용하여 구구단을 출력하시오.\n",
    "arr = [1,4,3,2,7,6,8,5,9]\n",
    "\n",
    "def bubble_sort(array):\n",
    "    for i in range(len(array)):\n",
    "        for j in range(len(array)-i-1):\n",
    "            if array[j] > array[j+1]:\n",
    "                array[j], array[j+1] = array[j+1], array[j]\n",
    "    return array\n",
    "\n",
    "sortarr = bubble_sort(arr)\n",
    "\n",
    "for i in sortarr:\n",
    "    for j in range(1, 10):\n",
    "        print(f\"{i} * {j} = {i * j}\")\n",
    "    print()"
   ]
  }
 ],
 "metadata": {
  "kernelspec": {
   "display_name": "Python 3",
   "language": "python",
   "name": "python3"
  },
  "language_info": {
   "codemirror_mode": {
    "name": "ipython",
    "version": 3
   },
   "file_extension": ".py",
   "mimetype": "text/x-python",
   "name": "python",
   "nbconvert_exporter": "python",
   "pygments_lexer": "ipython3",
   "version": "3.11.9"
  }
 },
 "nbformat": 4,
 "nbformat_minor": 2
}
