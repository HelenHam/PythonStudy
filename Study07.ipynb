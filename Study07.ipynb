{
 "cells": [
  {
   "cell_type": "code",
   "execution_count": null,
   "metadata": {},
   "outputs": [],
   "source": [
    "# 1차원 배열 [1,2,3,4,5,]에서 각각 10을 곱하여 2차원 배열로 만드시오."
   ]
  },
  {
   "cell_type": "code",
   "execution_count": 24,
   "metadata": {},
   "outputs": [
    {
     "name": "stdout",
     "output_type": "stream",
     "text": [
      "1 * 10 = 10\n",
      "2 * 10 = 20\n",
      "3 * 10 = 30\n",
      "4 * 10 = 40\n",
      "5 * 10 = 50\n",
      "[[1, 10], [2, 20], [3, 30], [4, 40], [5, 50]]\n"
     ]
    }
   ],
   "source": [
    "arr =  [1,2,3,4,5]\n",
    "arr2 = []\n",
    "\n",
    "for d in arr:\n",
    "    arr3 = []\n",
    "    print(f'{d} * 10 = {d*10}')\n",
    "    arr3.append(d)\n",
    "    arr3.append(d*10)\n",
    "    arr2.append(arr3)\n",
    "print(arr2)"
   ]
  },
  {
   "cell_type": "code",
   "execution_count": 32,
   "metadata": {},
   "outputs": [
    {
     "name": "stdout",
     "output_type": "stream",
     "text": [
      "<class 'list'> [1, 2, 3, 4, 5]\n",
      "<class 'numpy.ndarray'> [1 2 3 4 5]\n",
      "[10 20 30 40 50]\n",
      "1\n"
     ]
    }
   ],
   "source": [
    "# 위를 numpy로\n",
    "\n",
    "import numpy as np\n",
    "arr4 = np.array(arr)\n",
    "print(type(arr), arr)\n",
    "print(type(arr4), arr4)\n",
    "\n",
    "print(arr4 * 10)\n",
    "print(arr4[0])"
   ]
  },
  {
   "cell_type": "code",
   "execution_count": 36,
   "metadata": {},
   "outputs": [
    {
     "name": "stdout",
     "output_type": "stream",
     "text": [
      "<class 'numpy.ndarray'> [1 2 3 4 5]\n"
     ]
    },
    {
     "data": {
      "text/plain": [
       "np.int64(1)"
      ]
     },
     "execution_count": 36,
     "metadata": {},
     "output_type": "execute_result"
    }
   ],
   "source": [
    "arr5 = np.array(arr)\n",
    "print(type(arr5), arr5)\n",
    "\n",
    "arr5[0]\n",
    "#arr5[0, 1]\n",
    "#arr5[:, 1]"
   ]
  }
 ],
 "metadata": {
  "kernelspec": {
   "display_name": "Python 3",
   "language": "python",
   "name": "python3"
  },
  "language_info": {
   "codemirror_mode": {
    "name": "ipython",
    "version": 3
   },
   "file_extension": ".py",
   "mimetype": "text/x-python",
   "name": "python",
   "nbconvert_exporter": "python",
   "pygments_lexer": "ipython3",
   "version": "3.11.9"
  }
 },
 "nbformat": 4,
 "nbformat_minor": 2
}
