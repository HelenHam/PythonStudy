{
 "cells": [
  {
   "cell_type": "code",
   "execution_count": null,
   "metadata": {},
   "outputs": [],
   "source": [
    "from requests import get\n",
    "from bs4 import BeautifulSoup as bs\n",
    "import pandas as pd\n",
    "\n",
    "url = \"https://www.ticketlink.co.kr/ranking?ranking=genre&categoryId=10&category2Id=14&category3Id=14&period=yearly&currentDate=1733792490744\"\n",
    "\n",
    "res = get(url)\n",
    "res.raise_for_status()\n",
    "\n",
    "all_info = bs(res.text, 'html.parser')\n",
    "\n",
    "concerts = []\n",
    "\n",
    "# 각 공연의 링크 추출\n",
    "for link in all_info.select('a[class*=\"ranking-item\"]'):\n",
    "    href = link.get('href')\n",
    "    if href and '/product/' in href:\n",
    "        detail_url = f\"https://www.ticketlink.co.kr{href}\"\n",
    "        \n",
    "        # 상세 페이지 요청\n",
    "        detail_response = get(detail_url)\n",
    "        detail_response.raise_for_status()\n",
    "        detail_soup = bs(detail_response.text, 'html.parser')\n",
    "        \n",
    "        # 공연명 추출\n",
    "        title = detail_soup.select_one('h1.product-title').get_text(strip=True)\n",
    "        \n",
    "        # 장소 추출\n",
    "        place = detail_soup.select_one('div.place-info').get_text(strip=True)\n",
    "        \n",
    "        # 가격 추출\n",
    "        price = detail_soup.select_one('div.price-info').get_text(strip=True)\n",
    "        \n",
    "        # 공연 정보 저장\n",
    "        concerts.append({\n",
    "            '공연명': title,\n",
    "            '장소': place,\n",
    "            '가격': price,\n",
    "            '상세페이지': detail_url\n",
    "        })\n",
    "\n",
    "# 데이터프레임 생성\n",
    "df = pd.DataFrame(concerts)\n",
    "\n",
    "df"
   ]
  }
 ],
 "metadata": {
  "kernelspec": {
   "display_name": "Python 3",
   "language": "python",
   "name": "python3"
  },
  "language_info": {
   "name": "python",
   "version": "3.11.9"
  }
 },
 "nbformat": 4,
 "nbformat_minor": 2
}
