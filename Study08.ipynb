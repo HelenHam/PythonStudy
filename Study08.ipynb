{
 "cells": [
  {
   "cell_type": "code",
   "execution_count": 18,
   "metadata": {},
   "outputs": [
    {
     "name": "stdout",
     "output_type": "stream",
     "text": [
      "753 10 75.3\n"
     ]
    }
   ],
   "source": [
    "# Q3. 아래 1차원 배열 값의 평균값\n",
    "\n",
    "import numpy as np\n",
    "\n",
    "arr1 = [80,76,63,83,99,87,100,42,68,55]\n",
    "\n",
    "sum1 = sum(arr1)\n",
    "all1 = len(arr1)\n",
    "print(sum1, all1, sum1/all1)"
   ]
  },
  {
   "cell_type": "code",
   "execution_count": 19,
   "metadata": {},
   "outputs": [
    {
     "data": {
      "text/plain": [
       "75.3"
      ]
     },
     "execution_count": 19,
     "metadata": {},
     "output_type": "execute_result"
    }
   ],
   "source": [
    "def 평균값(list):\n",
    "    return sum(list) / len(list)\n",
    "\n",
    "평균값(arr1)"
   ]
  },
  {
   "cell_type": "code",
   "execution_count": 43,
   "metadata": {},
   "outputs": [
    {
     "name": "stdout",
     "output_type": "stream",
     "text": [
      "['홍길동', 80]\n",
      "강감찬\n"
     ]
    }
   ],
   "source": [
    "# Q4. 2차원 배열 표에서 가장 점수가 높은 학생\n",
    "\n",
    "arr2 = [\n",
    "    [\"홍길동\", 80],\n",
    "    [\"류관순\", 76],\n",
    "    [\"강감찬\", 99],\n",
    "    [\"이성계\", 87],\n",
    "    [\"이황\", 68]\n",
    "]\n",
    "arr2\n",
    "vs = arr2[0]\n",
    "print(vs)\n",
    "\n",
    "for i in range(1,len(arr2)):\n",
    "    # print(i, arr2[i])\n",
    "    if vs[1] < arr2[i][1]:\n",
    "        vs = arr2[i]\n",
    "\n",
    "print(vs[0])"
   ]
  },
  {
   "cell_type": "code",
   "execution_count": 39,
   "metadata": {},
   "outputs": [
    {
     "name": "stdout",
     "output_type": "stream",
     "text": [
      "[42, 55, 63, 68, 76, 80, 83, 87, 99, 100]\n"
     ]
    }
   ],
   "source": [
    "# Q5. 아래의 1차원 배열을 이용해 버블 방식으로 정렬\n",
    "\n",
    "arr3 = [80,76,63,83,99,87,100,42,68,55]\n",
    "\n",
    "def bubble_sort(arr3):\n",
    "    for i in range(len(arr3)):\n",
    "        for j in range(len(arr3)-i-1):\n",
    "            if arr3[j] > arr3[j+1]:\n",
    "                arr3[j], arr3[j+1] = arr3[j+1], arr3[j]\n",
    "    return arr3\n",
    "\n",
    "bubble = bubble_sort(arr3)\n",
    "print(bubble)"
   ]
  },
  {
   "cell_type": "code",
   "execution_count": null,
   "metadata": {},
   "outputs": [
    {
     "name": "stdout",
     "output_type": "stream",
     "text": [
      "[42, 55, 63, 68, 76, 80, 83, 87, 99, 100]\n"
     ]
    }
   ],
   "source": [
    "# Q5. 아래의 1차원 배열을 이용해 버블 방식으로 정렬\n",
    "\n",
    "arr3 = [80,76,63,83,99,87,100,42,68,55]\n",
    "\n",
    "def bubble_sort(arr3):\n",
    "    for i in range(len(arr3)):\n",
    "        for j in range(len(arr3)-i-1):\n",
    "            if arr3[j] > arr3[j+1]:\n",
    "                여기예요 = arr3[j]\n",
    "                arr3[j] = arr3[j+1]\n",
    "                arr3[j+1] = 여기예요\n",
    "    return arr3\n",
    "\n",
    "bubble = bubble_sort(arr3)\n",
    "print(bubble)"
   ]
  }
 ],
 "metadata": {
  "kernelspec": {
   "display_name": "Python 3",
   "language": "python",
   "name": "python3"
  },
  "language_info": {
   "codemirror_mode": {
    "name": "ipython",
    "version": 3
   },
   "file_extension": ".py",
   "mimetype": "text/x-python",
   "name": "python",
   "nbconvert_exporter": "python",
   "pygments_lexer": "ipython3",
   "version": "3.11.9"
  }
 },
 "nbformat": 4,
 "nbformat_minor": 2
}
