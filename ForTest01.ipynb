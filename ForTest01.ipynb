{
 "cells": [
  {
   "cell_type": "code",
   "execution_count": null,
   "metadata": {},
   "outputs": [
    {
     "name": "stdout",
     "output_type": "stream",
     "text": [
      "[4, 41, 6, 5, 7, 3, 9]\n"
     ]
    }
   ],
   "source": [
    "# 1 정수 리스트가 주어질 때, 중복된 값을 제거하고 유니크한 값만 남긴 리스트를 반환하는 함수를 작성하세요.\n",
    "\n",
    "nums = list(map(int, input('숫자를 입력하세요:').split(',')))\n",
    "\n",
    "def unique_num(nums):\n",
    "\n",
    "    listset = set()\n",
    "    final = []\n",
    "\n",
    "    for i in nums:\n",
    "        if i not in listset:\n",
    "            listset.add(i)\n",
    "            final.append(i)\n",
    "\n",
    "    return final\n",
    "\n",
    "\n",
    "print(unique_num(nums))"
   ]
  },
  {
   "cell_type": "code",
   "execution_count": null,
   "metadata": {},
   "outputs": [
    {
     "name": "stdout",
     "output_type": "stream",
     "text": [
      "[2, 4, 5, 5, 6, 6, 7, 7, 7, 9, 11, 24, 56, 56, 75, 124, 243, 14546, 47567]\n"
     ]
    }
   ],
   "source": [
    "# 2 두 개의 정렬된 리스트가 주어졌을 때, 두 리스트를 병합하여 하나의 정렬된 리스트를 반환하는 함수를 작성하세요.\n",
    "\n",
    "nums1 = list(map(int, input('리스트 1번 입력: ').split(',')))\n",
    "nums2 = list(map(int, input('리스트 2번 입력: ').split(',')))\n",
    "\n",
    "\n",
    "def bubblelist(nums1, nums2):\n",
    "\n",
    "    numsplus = nums1+nums2\n",
    "\n",
    "    for i in range(len(numsplus)):\n",
    "        for j in range(len(numsplus)-i-1):\n",
    "            if numsplus[j] > numsplus[j+1]:\n",
    "                numsplus[j], numsplus[j+1] = numsplus[j+1], numsplus[j]\n",
    "    return numsplus\n",
    "\n",
    "bubble = bubblelist(nums1, nums2)\n",
    "print(bubble)"
   ]
  },
  {
   "cell_type": "code",
   "execution_count": 15,
   "metadata": {},
   "outputs": [
    {
     "name": "stdout",
     "output_type": "stream",
     "text": [
      "True\n"
     ]
    }
   ],
   "source": [
    "# 3 문자열이 주어질 때, 해당 문자열이 팰린드롬(앞뒤가 같음)인지 확인하는 함수를 작성하세요.\n",
    "\n",
    "str3 = input('문자열을 입력하세요: ')\n",
    "\n",
    "def palindrome(str3):\n",
    "    for i in range(len(str3)//2):\n",
    "        r = len(str3) - i - 1\n",
    "        if str3[r] != str3[i]:\n",
    "            return False\n",
    "    return True\n",
    "\n",
    "print(palindrome(str3))"
   ]
  },
  {
   "cell_type": "code",
   "execution_count": null,
   "metadata": {},
   "outputs": [
    {
     "name": "stdout",
     "output_type": "stream",
     "text": [
      "5\n"
     ]
    }
   ],
   "source": [
    "# 4 주어진 정수 배열에서 가장 긴 연속된 증가 부분 수열을 찾아 그 길이를 반환하는 함수를 작성하세요.\n",
    "\n",
    "nums4 = list(map(int, input('정수 입력: ').split(',')))\n",
    "\n",
    "def sequence(nums4):\n",
    "    max4 = 1\n",
    "    seq4 = 1\n",
    "\n",
    "    for i in range(1,len(nums4)):\n",
    "        if nums4[i-1] < nums4[i]:\n",
    "            seq4 += 1\n",
    "        else:\n",
    "            max4 = max(max4, seq4)\n",
    "            seq4 = 1\n",
    "\n",
    "    max4 = max(max4, seq4)\n",
    "    return max4\n",
    "\n",
    "print(sequence(nums4))"
   ]
  },
  {
   "cell_type": "code",
   "execution_count": null,
   "metadata": {},
   "outputs": [
    {
     "name": "stdout",
     "output_type": "stream",
     "text": [
      "True\n"
     ]
    }
   ],
   "source": [
    "# 5 주어진 문자열에서 괄호가 올바르게 열리고 닫히는지 확인하는 함수를 작성하세요.\n",
    "\n",
    "str5 = input('괄호 문자열을 입력하세요: ')\n",
    "\n",
    "def parentheses(str5):\n",
    "\n",
    "    validl = ['(', '{', '[']\n",
    "    validr = [')', '}', ']']\n",
    "    open = []\n",
    "\n",
    "    for i in str5:\n",
    "        if i in validl:\n",
    "            open.append(i)\n",
    "        elif i in validr:\n",
    "            if not open:\n",
    "                return False\n",
    "                    \n",
    "\n",
    "print(parentheses(str3))"
   ]
  },
  {
   "cell_type": "code",
   "execution_count": null,
   "metadata": {},
   "outputs": [
    {
     "name": "stdout",
     "output_type": "stream",
     "text": [
      "['국민 41.9% \"딥페이크 가짜뉴스 구별 못해…강력한 정책 필요\"', '707특임단장 “‘국회의원 150명 넘으면 안 되니 막아라’ 지시받아” [지금뉴스]', \"창원시 '창원을 빛낸 올해의 정책' 10대 뉴스 설문조사\", '[자막뉴스] \"이상민·김용현 등 출국금지…윤석열 등 총 11명 피의자 입건\"']\n",
      "['https://www.yna.co.kr/view/AKR20241209064300017?input=1195m', 'https://news.kbs.co.kr/news/pc/view/view.do?ncd=8126028&ref=A', 'https://www.newsis.com/view/NISX20241209_0002989416', 'https://news.sbs.co.kr/news/endPage.do?news_id=N1007904619&plink=ORI&cooper=NAVER']\n",
      "국민 41.9% \"딥페이크 가짜뉴스 구별 못해…강력한 정책 필요\"              https://www.yna.co.kr/view/AKR2024120906430001...\n",
      "707특임단장 “‘국회의원 150명 넘으면 안 되니 막아라’ 지시받아” [지금뉴스]    https://news.kbs.co.kr/news/pc/view/view.do?nc...\n",
      "창원시 '창원을 빛낸 올해의 정책' 10대 뉴스 설문조사                   https://www.newsis.com/view/NISX20241209_00029...\n",
      "[자막뉴스] \"이상민·김용현 등 출국금지…윤석열 등 총 11명 피의자 입건\"        https://news.sbs.co.kr/news/endPage.do?news_id...\n",
      "dtype: object\n"
     ]
    }
   ],
   "source": [
    "# BeautifulSoup 시험문제\n",
    "\n",
    "from requests import get\n",
    "from bs4 import BeautifulSoup as bs\n",
    "import pandas as pd\n",
    "\n",
    "res = get(\"https://search.naver.com/search.naver?where=nexearch&sm=top_hty&fbm=0&ie=utf8&query=%EB%89%B4%EC%8A%A4\")\n",
    "data = bs(res.text, 'html.parser')\n",
    "items = data.select('a.news_tit')\n",
    "titles = []\n",
    "links = []\n",
    "\n",
    "for i in items:\n",
    "    title = i.get('title', None)\n",
    "    link = i.get('href', None)\n",
    "    titles.append(title)\n",
    "    links.append(link)\n",
    "\n",
    "print(titles)\n",
    "print(links)\n",
    "tit_lin = pd.Series(data=links, index=titles)\n",
    "print(tit_lin)"
   ]
  }
 ],
 "metadata": {
  "kernelspec": {
   "display_name": "Python 3",
   "language": "python",
   "name": "python3"
  },
  "language_info": {
   "codemirror_mode": {
    "name": "ipython",
    "version": 3
   },
   "file_extension": ".py",
   "mimetype": "text/x-python",
   "name": "python",
   "nbconvert_exporter": "python",
   "pygments_lexer": "ipython3",
   "version": "3.11.9"
  }
 },
 "nbformat": 4,
 "nbformat_minor": 2
}
