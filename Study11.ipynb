{
 "cells": [
  {
   "cell_type": "code",
   "execution_count": 2,
   "metadata": {},
   "outputs": [
    {
     "data": {
      "text/plain": [
       "<_io.TextIOWrapper name='1.txt' mode='w' encoding='cp949'>"
      ]
     },
     "execution_count": 2,
     "metadata": {},
     "output_type": "execute_result"
    }
   ],
   "source": [
    "open(\"1.txt\", 'w')"
   ]
  },
  {
   "cell_type": "code",
   "execution_count": 16,
   "metadata": {},
   "outputs": [
    {
     "name": "stdout",
     "output_type": "stream",
     "text": [
      "True\n",
      "True\n",
      "False\n"
     ]
    }
   ],
   "source": [
    "a = open(\"1.txt\", encoding='utf-8')\n",
    "print(a.readline() != \"\")\n",
    "print(a.readline() != \"\")\n",
    "print(a.readline() != \"\")"
   ]
  },
  {
   "cell_type": "code",
   "execution_count": null,
   "metadata": {},
   "outputs": [],
   "source": []
  },
  {
   "cell_type": "code",
   "execution_count": 31,
   "metadata": {},
   "outputs": [
    {
     "name": "stdout",
     "output_type": "stream",
     "text": [
      "글 추가글 추가\n",
      "1\n"
     ]
    }
   ],
   "source": [
    "a = open(\"1.txt\", encoding='utf-8')\n",
    "\n",
    "countline = 0\n",
    "\n",
    "while 1:\n",
    "    txt = a.readline()\n",
    "    if txt == \"\": break\n",
    "    print(txt)\n",
    "    countline += 1\n",
    "\n",
    "print(countline)\n",
    "a.close()"
   ]
  },
  {
   "cell_type": "code",
   "execution_count": 35,
   "metadata": {},
   "outputs": [],
   "source": [
    "b = open(\"1.txt\", mode = 'a', encoding = 'utf-8')\n",
    "b.write('\\n글 추가')\n",
    "b.close()"
   ]
  },
  {
   "cell_type": "code",
   "execution_count": 36,
   "metadata": {},
   "outputs": [],
   "source": [
    "b = open(\"1.txt\", mode = 'a', encoding = 'utf-8')\n",
    "txt = input(\"글 추가하세요\")\n",
    "b.write(f\"\\n{txt}\")\n",
    "b.close()"
   ]
  },
  {
   "cell_type": "code",
   "execution_count": 58,
   "metadata": {},
   "outputs": [],
   "source": [
    "def lenfile(file):\n",
    "    c = open(file, encoding='utf-8')\n",
    "    cnt = 0\n",
    "    while 1:\n",
    "        if c.readline() == \"\":\n",
    "            break\n",
    "        else:\n",
    "            cnt += 1\n",
    "    return cnt\n",
    "\n",
    "def addline():\n",
    "    file = '2.txt'\n",
    "    cnt = lenfile(file)\n",
    "    d = open(file, mode = 'a', encoding='utf-8')\n",
    "    while 1:\n",
    "        txt = input(\"메모 추가: \")\n",
    "        if txt == \"\":\n",
    "            break\n",
    "        if cnt == 0:\n",
    "            d.write(f\"{txt}\")\n",
    "            cnt += 1\n",
    "        else:\n",
    "            d.write(f\"\\n{txt}\")\n",
    "    b.close()\n",
    "\n",
    "addline()"
   ]
  },
  {
   "cell_type": "code",
   "execution_count": 78,
   "metadata": {},
   "outputs": [
    {
     "data": {
      "text/plain": [
       "['가나다라',\n",
       " 'ABCDE',\n",
       " '글 추가',\n",
       " '오늘 밥 뭐먹지',\n",
       " '할 게 있나?',\n",
       " '음... 뭐라고 하지',\n",
       " '메모장 만들기에 성공했을까',\n",
       " '뭐라고 하지 또',\n",
       " '나는야....... 어쩌고']"
      ]
     },
     "execution_count": 78,
     "metadata": {},
     "output_type": "execute_result"
    }
   ],
   "source": [
    "def 줄바꿈빼기(file):\n",
    "    b = open(file, encoding='utf-8')\n",
    "    c = b.readlines()\n",
    "    minusline = []\n",
    "    for i in c:\n",
    "        line = i.strip()\n",
    "        minusline.append(line)\n",
    "    b.close()\n",
    "    return minusline\n",
    "\n",
    "줄바꿈빼기(\"1.txt\")"
   ]
  },
  {
   "cell_type": "code",
   "execution_count": 89,
   "metadata": {},
   "outputs": [
    {
     "data": {
      "text/plain": [
       "['나 바본가봐', 'ㅋ', '해결!']"
      ]
     },
     "execution_count": 89,
     "metadata": {},
     "output_type": "execute_result"
    }
   ],
   "source": [
    "def 줄바꿈빼기2(file):\n",
    "    b = open(file, encoding='utf-8')\n",
    "    c = b.readlines()\n",
    "    d = []\n",
    "    for i in range(len(c)):\n",
    "        c[i] = c[i].replace('\\n', '') # 이 쪽을 추천하신댄다\n",
    "        #d.append(i.replace('\\n', ''))\n",
    "    return c\n",
    "\n",
    "줄바꿈빼기2('2.txt')"
   ]
  },
  {
   "cell_type": "code",
   "execution_count": 94,
   "metadata": {},
   "outputs": [
    {
     "data": {
      "text/plain": [
       "'나 바본가봐 ㅋ 해결!'"
      ]
     },
     "execution_count": 94,
     "metadata": {},
     "output_type": "execute_result"
    }
   ],
   "source": [
    "b = open(\"2.txt\", encoding='utf-8')\n",
    "b.read().replace(\"\\n\", \" \")"
   ]
  },
  {
   "cell_type": "code",
   "execution_count": 104,
   "metadata": {},
   "outputs": [],
   "source": [
    "b = open(\"3.csv\", mode=\"w\", encoding='utf-8')\n",
    "\n",
    "for i in range(1,10):\n",
    "    for j in range(1,10):\n",
    "        b.write(f\"{i},{j},{i * j}\\n\")\n",
    "b.close()"
   ]
  },
  {
   "cell_type": "code",
   "execution_count": 154,
   "metadata": {},
   "outputs": [
    {
     "name": "stdout",
     "output_type": "stream",
     "text": [
      "2 * 9 = 18\n",
      "2 * 8 = 16\n",
      "2 * 7 = 14\n",
      "2 * 6 = 12\n",
      "2 * 5 = 10\n",
      "2 * 4 = 8\n",
      "2 * 3 = 6\n",
      "2 * 2 = 4\n",
      "2 * 1 = 2\n",
      "4 * 9 = 36\n",
      "4 * 8 = 32\n",
      "4 * 7 = 28\n",
      "4 * 6 = 24\n",
      "4 * 5 = 20\n",
      "4 * 4 = 16\n",
      "4 * 3 = 12\n",
      "4 * 2 = 8\n",
      "4 * 1 = 4\n"
     ]
    }
   ],
   "source": [
    "b = open(\"q.csv\")\n",
    "\n",
    "d = b.read().split('\\n')\n",
    "\n",
    "for i in range(len(d)):\n",
    "    if len(d[i]) >= 2:\n",
    "        d[i] = d[i].split(',')\n",
    "        print(f\"{d[i][0]} * {d[i][1]} = {int(d[i][0])*int(d[i][1])}\")\n",
    "\n",
    "b.close()\n"
   ]
  },
  {
   "cell_type": "code",
   "execution_count": null,
   "metadata": {},
   "outputs": [
    {
     "name": "stdout",
     "output_type": "stream",
     "text": [
      "2 * 9 = 18\n",
      "2 * 8 = 16\n",
      "2 * 7 = 14\n",
      "2 * 6 = 12\n",
      "2 * 5 = 10\n",
      "2 * 4 = 8\n",
      "2 * 3 = 6\n",
      "2 * 2 = 4\n",
      "2 * 1 = 2\n",
      "4 * 9 = 36\n",
      "4 * 8 = 32\n",
      "4 * 7 = 28\n",
      "4 * 6 = 24\n",
      "4 * 5 = 20\n",
      "4 * 4 = 16\n",
      "4 * 3 = 12\n",
      "4 * 2 = 8\n",
      "4 * 1 = 4\n"
     ]
    }
   ],
   "source": [
    "# 다른 방식\n",
    "\n",
    "b = open(\"q.csv\")\n",
    "\n",
    "c = b.readlines()\n",
    "for i in range(len(c)):\n",
    "    c[i] = c[i].replace(\"\\n\",\"\").split(\",\")\n",
    "b.close()\n",
    "\n",
    "for l in c:\n",
    "    print(f\"{l[0]} * {l[1]} = {int(l[0])*int(l[1])}\")"
   ]
  }
 ],
 "metadata": {
  "kernelspec": {
   "display_name": "Python 3",
   "language": "python",
   "name": "python3"
  },
  "language_info": {
   "codemirror_mode": {
    "name": "ipython",
    "version": 3
   },
   "file_extension": ".py",
   "mimetype": "text/x-python",
   "name": "python",
   "nbconvert_exporter": "python",
   "pygments_lexer": "ipython3",
   "version": "3.12.7"
  }
 },
 "nbformat": 4,
 "nbformat_minor": 2
}
