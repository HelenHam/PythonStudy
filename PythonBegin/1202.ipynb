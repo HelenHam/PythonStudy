{
 "cells": [
  {
   "cell_type": "code",
   "execution_count": 18,
   "metadata": {},
   "outputs": [
    {
     "name": "stdout",
     "output_type": "stream",
     "text": [
      "[8.8, 8.9, 8.7, 9.2, 9.3, 9.7, 9.9, 9.5]\n",
      "[8.7, 9.2, 9.3, 9.7, 9.9, 9.5, 7.8, 9.4]\n",
      "[8.9, 8.7, 9.2, 9.3, 9.7, 9.9, 9.5, 7.8]\n",
      "{}\n",
      "{'메로나': 1000, '폴라포': 1200, '빵빠레': 1800}\n"
     ]
    }
   ],
   "source": [
    "# 81~85\n",
    "\n",
    "scores = [8.8, 8.9, 8.7, 9.2, 9.3, 9.7, 9.9, 9.5, 7.8, 9.4]\n",
    "*valid_score, _, __ = scores\n",
    "print(valid_score) # 81\n",
    "\n",
    "_, _, *valid_score = scores\n",
    "print(valid_score) # 82\n",
    "\n",
    "_, *valid_score, _ = scores\n",
    "print(valid_score) # 83\n",
    "\n",
    "temp = {}\n",
    "print(temp) # 84\n",
    "\n",
    "dic1 = {'메로나':1000, '폴라포':1200, '빵빠레':1800}\n",
    "print(dic1) # 85"
   ]
  },
  {
   "cell_type": "code",
   "execution_count": null,
   "metadata": {},
   "outputs": [
    {
     "name": "stdout",
     "output_type": "stream",
     "text": [
      "{'메로나': 1000, '폴라포': 1200, '빵빠레': 1800, '죠스바': 1200, '월드콘': 1500}\n",
      "메로나 가격:  1000\n",
      "{'메로나': 1300, '폴라포': 1200, '빵빠레': 1800, '죠스바': 1200, '월드콘': 1500}\n",
      "{'폴라포': 1200, '빵빠레': 1800, '죠스바': 1200, '월드콘': 1500}\n"
     ]
    }
   ],
   "source": [
    "# 86~90\n",
    "\n",
    "dic1['죠스바'] = 1200\n",
    "dic1['월드콘'] = 1500\n",
    "print(dic1) # 86\n",
    "\n",
    "print(\"메로나 가격: \", dic1['메로나']) # 87\n",
    "\n",
    "dic1['메로나'] = 1300\n",
    "print(dic1) # 88\n",
    "\n",
    "del dic1['메로나']\n",
    "print(dic1) # 89\n",
    "\n",
    "'''\n",
    "icecream = {'폴라포': 1200, '빵빠레': 1800, '월드콘': 1500, '메로나': 1000}\n",
    "icecream['누가바']    >> 없는 키\n",
    "Traceback (most recent call last):\n",
    "  File \"<pyshell#69>\", line 1, in <module>\n",
    "    icecream['누가바']\n",
    "KeyError: '누가바'\n",
    "'''\n",
    "# 90"
   ]
  },
  {
   "cell_type": "code",
   "execution_count": null,
   "metadata": {},
   "outputs": [
    {
     "name": "stdout",
     "output_type": "stream",
     "text": [
      "{'메로나': [300, 20], '비비빅': [400, 3], '죠스바': [250, 100]}\n",
      "300 원\n",
      "20 개\n",
      "{'메로나': [300, 20], '비비빅': [400, 3], '죠스바': [250, 100], '월드콘': [500, 7]}\n",
      "['탱크보이', '폴라포', '빵빠레', '월드콘', '메로나']\n"
     ]
    }
   ],
   "source": [
    "# 91~95\n",
    "\n",
    "inventory = {'메로나':[300, 20],\n",
    "             '비비빅':[400, 3],\n",
    "             '죠스바':[250, 100]}\n",
    "print(inventory) # 91\n",
    "\n",
    "print(inventory['메로나'][0], \"원\") # 92\n",
    "\n",
    "print(inventory['메로나'][1], \"개\") # 93\n",
    "\n",
    "inventory['월드콘'] = [500, 7]\n",
    "print(inventory) # 94\n",
    "\n",
    "icecream = {'탱크보이': 1200, '폴라포': 1200,\n",
    "            '빵빠레': 1800, '월드콘': 1500,\n",
    "            '메로나': 1000}\n",
    "ikey = list(icecream.keys())\n",
    "print(ikey) # 95"
   ]
  },
  {
   "cell_type": "code",
   "execution_count": 38,
   "metadata": {},
   "outputs": [
    {
     "name": "stdout",
     "output_type": "stream",
     "text": [
      "[1200, 1200, 1800, 1500, 1000]\n",
      "6700\n",
      "{'탱크보이': 1200, '폴라포': 1200, '빵빠레': 1800, '월드콘': 1500, '메로나': 1000, '팥빙수': 2700, '아맛나': 1000}\n",
      "{'apple': 300, 'pear': 250, 'peach': 400}\n",
      "{'09/05': 10500, '09/06': 10300, '09/07': 10100, '09/08': 10800, '09/09': 11000}\n"
     ]
    }
   ],
   "source": [
    "# 96~100\n",
    "\n",
    "icecream = {'탱크보이': 1200, '폴라포': 1200,\n",
    "            '빵빠레': 1800, '월드콘': 1500,\n",
    "            '메로나': 1000}\n",
    "vice = list(icecream.values())\n",
    "print(vice) # 96\n",
    "\n",
    "print(sum(vice)) # 97\n",
    "\n",
    "new_product = {'팥빙수':2700, '아맛나':1000}\n",
    "icecream.update(new_product)\n",
    "print(icecream) # 98\n",
    "\n",
    "keys = (\"apple\", \"pear\", \"peach\")\n",
    "vals = (300, 250, 400)\n",
    "result = dict(zip(keys, vals))\n",
    "print(result) # 99\n",
    "\n",
    "date = ['09/05', '09/06', '09/07', '09/08', '09/09']\n",
    "close_price = [10500, 10300, 10100, 10800, 11000]\n",
    "close_table = dict(zip(date, close_price))\n",
    "print(close_table) # 100"
   ]
  },
  {
   "cell_type": "code",
   "execution_count": null,
   "metadata": {},
   "outputs": [
    {
     "name": "stdout",
     "output_type": "stream",
     "text": [
      "False\n",
      "True\n",
      "True\n",
      "True\n",
      "False\n",
      "Hi, there.\n",
      "1\n",
      "2\n",
      "4\n",
      "3\n",
      "5\n"
     ]
    }
   ],
   "source": [
    "# 101~110\n",
    "\n",
    "# True or False는 bool 혹은 boolean 타입\n",
    "# 101\n",
    "\n",
    "print(3==5)\n",
    "# False\n",
    "# 102\n",
    "\n",
    "print(3<5)\n",
    "# True\n",
    "# 103\n",
    "\n",
    "x = 4\n",
    "print(1 < x < 5)\n",
    "# True\n",
    "# 104\n",
    "\n",
    "print ((3 == 3) and (4 != 3))\n",
    "# True\n",
    "# 105\n",
    "\n",
    "print(3 => 4)\n",
    "# 비교 연산자의 오류, >= 식으로 써야 함\n",
    "# 106\n",
    "\n",
    "if 4 < 3:\n",
    "    print(\"Hello World\")\n",
    "# 4 < 3은 False이므로 아무것도 출력되지 않음\n",
    "# 107\n",
    "\n",
    "if 4 < 3:\n",
    "    print(\"Hello World.\")\n",
    "else:\n",
    "    print(\"Hi, there.\")\n",
    "# 4 < 3은 False이므로 else문인 Hi, there. 이 출력\n",
    "# 108\n",
    "\n",
    "if True :\n",
    "    print (\"1\")\n",
    "    print (\"2\")\n",
    "else :\n",
    "    print(\"3\")\n",
    "print(\"4\")\n",
    "# if문이 True이므로 1 2가 출력,\n",
    "# 4는 if문 밖에 있으므로 항상 4를 출력\n",
    "# 109\n",
    "\n",
    "if True :\n",
    "    if False:\n",
    "        print(\"1\")\n",
    "        print(\"2\")\n",
    "    else:\n",
    "        print(\"3\")\n",
    "else :\n",
    "    print(\"4\")\n",
    "print(\"5\")\n",
    "\n",
    "# 1번째 if문은 True이므로 2번째 if문으로 진행,\n",
    "# 2번째 if문은 False이므로 else가 동작, 3 출력\n",
    "# 5는 if문 밖에 있으므로 항상 5를 출력\n",
    "# 110"
   ]
  }
 ],
 "metadata": {
  "kernelspec": {
   "display_name": "Python 3",
   "language": "python",
   "name": "python3"
  },
  "language_info": {
   "codemirror_mode": {
    "name": "ipython",
    "version": 3
   },
   "file_extension": ".py",
   "mimetype": "text/x-python",
   "name": "python",
   "nbconvert_exporter": "python",
   "pygments_lexer": "ipython3",
   "version": "3.12.7"
  }
 },
 "nbformat": 4,
 "nbformat_minor": 2
}
