{
 "cells": [
  {
   "cell_type": "code",
   "execution_count": null,
   "metadata": {},
   "outputs": [],
   "source": [
    "# 딕셔너리"
   ]
  },
  {
   "cell_type": "code",
   "execution_count": 4,
   "metadata": {},
   "outputs": [
    {
     "name": "stdout",
     "output_type": "stream",
     "text": [
      "{'key': 'value'}\n"
     ]
    }
   ],
   "source": [
    "a = {'key': 'value'}\n",
    "print(a)"
   ]
  },
  {
   "cell_type": "code",
   "execution_count": 5,
   "metadata": {},
   "outputs": [
    {
     "data": {
      "text/plain": [
       "'value'"
      ]
     },
     "execution_count": 5,
     "metadata": {},
     "output_type": "execute_result"
    }
   ],
   "source": [
    "a['key']\n",
    "a.get('key')"
   ]
  },
  {
   "cell_type": "code",
   "execution_count": 6,
   "metadata": {},
   "outputs": [
    {
     "name": "stdout",
     "output_type": "stream",
     "text": [
      "{'key': 100}\n"
     ]
    }
   ],
   "source": [
    "a['key'] = 100\n",
    "print(a)"
   ]
  },
  {
   "cell_type": "code",
   "execution_count": 7,
   "metadata": {},
   "outputs": [
    {
     "data": {
      "text/plain": [
       "{}"
      ]
     },
     "execution_count": 7,
     "metadata": {},
     "output_type": "execute_result"
    }
   ],
   "source": [
    "del a['key']\n",
    "a"
   ]
  },
  {
   "cell_type": "code",
   "execution_count": 8,
   "metadata": {},
   "outputs": [
    {
     "name": "stdout",
     "output_type": "stream",
     "text": [
      "{}\n"
     ]
    }
   ],
   "source": [
    "a.clear()\n",
    "print(a)"
   ]
  },
  {
   "cell_type": "code",
   "execution_count": 14,
   "metadata": {},
   "outputs": [
    {
     "name": "stdout",
     "output_type": "stream",
     "text": [
      "{'번호': 1, '이름': '홍길동', '나이': 19, '직업': '도둑'}\n"
     ]
    }
   ],
   "source": [
    "a = {\n",
    "    \"번호\": 1,\n",
    "    \"이름\": \"홍길동\",\n",
    "    \"나이\": 19,\n",
    "    \"직업\": \"도둑\"\n",
    "}\n",
    "print(a)"
   ]
  },
  {
   "cell_type": "code",
   "execution_count": 19,
   "metadata": {},
   "outputs": [
    {
     "name": "stdout",
     "output_type": "stream",
     "text": [
      "{'번호': 1, '이름': '홍길동', '나이': 19, '직업': ['나쁜놈', '의적']}\n"
     ]
    }
   ],
   "source": [
    "a[\"직업\"] = [\"도둑\", \"의적\"]\n",
    "type(a['직업'])\n",
    "a['직업'][0] = '나쁜놈'\n",
    "print(a)"
   ]
  },
  {
   "cell_type": "code",
   "execution_count": 25,
   "metadata": {},
   "outputs": [
    {
     "name": "stdout",
     "output_type": "stream",
     "text": [
      "{'no': 1, 'name': '홍길동', 'age': 19}\n",
      "{'no': 2, 'name': '잔다르크', 'age': 18}\n",
      "{'no': 3, 'name': '심청', 'age': 16}\n",
      "홍길동\n",
      "18\n"
     ]
    }
   ],
   "source": [
    "# Q1. 리스트에 학생 정보가 들어 있는 자료형을 선택하여 추가하려고 한다.\n",
    "# 예: {'no': 1, 'name': '홍길동', ...} keys = ['no', 'name', 'age']\n",
    "# 3명의 학생 정보를 담으려면?\n",
    "\n",
    "stu = []\n",
    "\n",
    "stu.append({'no': 1, 'name': '홍길동', 'age': 19})\n",
    "stu.append({'no': 2, 'name': '잔다르크', 'age': 18})\n",
    "stu.append({'no': 3, 'name': '심청', 'age': 16})\n",
    "\n",
    "print(stu[0])\n",
    "print(stu[1])\n",
    "print(stu[2])\n",
    "print(stu[0]['name'])\n",
    "print(stu[1]['age'])"
   ]
  },
  {
   "cell_type": "code",
   "execution_count": null,
   "metadata": {},
   "outputs": [
    {
     "name": "stdout",
     "output_type": "stream",
     "text": [
      "거짓\n"
     ]
    }
   ],
   "source": [
    "if {}:\n",
    "    print(\"참\")\n",
    "else:\n",
    "    print(\"거짓\") # 내용물이 비어있으면 False, 차 있으면 True "
   ]
  },
  {
   "cell_type": "code",
   "execution_count": null,
   "metadata": {},
   "outputs": [
    {
     "name": "stdout",
     "output_type": "stream",
     "text": [
      "참\n"
     ]
    }
   ],
   "source": [
    "if bool(''):\n",
    "    print('참')\n",
    "else:\n",
    "    print('거짓')"
   ]
  },
  {
   "cell_type": "code",
   "execution_count": 39,
   "metadata": {},
   "outputs": [
    {
     "name": "stdout",
     "output_type": "stream",
     "text": [
      "<class 'tuple'> (1, 2, 3, 4)\n",
      "<class 'list'> [1, 2, 3, 4]\n"
     ]
    }
   ],
   "source": [
    "a = [1,2,3,4]\n",
    "b = tuple(a)\n",
    "print(type(b), b)\n",
    "c = list(b)\n",
    "print(type(c), c)"
   ]
  },
  {
   "cell_type": "code",
   "execution_count": null,
   "metadata": {},
   "outputs": [
    {
     "name": "stdout",
     "output_type": "stream",
     "text": [
      "<class 'set'> {1, 2, 3, 4}\n"
     ]
    }
   ],
   "source": [
    "d = set(a)\n",
    "print(type(d), d)"
   ]
  },
  {
   "cell_type": "code",
   "execution_count": 45,
   "metadata": {},
   "outputs": [
    {
     "data": {
      "text/plain": [
       "{1, 2, 3, 4, 5}"
      ]
     },
     "execution_count": 45,
     "metadata": {},
     "output_type": "execute_result"
    }
   ],
   "source": [
    "s1 = set([1,2,3])\n",
    "s1.update([3,4,5])\n",
    "s1"
   ]
  },
  {
   "cell_type": "code",
   "execution_count": null,
   "metadata": {},
   "outputs": [],
   "source": [
    "arr = [1,2,0,3,5,4,7]\n",
    "# 위 배열을 사용해 가장 긴 수열 길이 구하기"
   ]
  },
  {
   "cell_type": "code",
   "execution_count": null,
   "metadata": {},
   "outputs": [
    {
     "name": "stdout",
     "output_type": "stream",
     "text": [
      "[0, 1, 1, 2, 3, 5, 8, 13, 21, 34, 55, 89, 144, 233, 377, 610, 987]\n"
     ]
    }
   ],
   "source": [
    "# [0, 1, 1, 2, 3, 5, 8, ...] 피보나치\n",
    "\n",
    "a = [0, 1]\n",
    "n = 16\n",
    "\n",
    "for i in range(1, n):\n",
    "    a.append(a[i-1] + a[i])\n",
    "\n",
    "print(a)"
   ]
  },
  {
   "cell_type": "code",
   "execution_count": null,
   "metadata": {},
   "outputs": [
    {
     "name": "stdout",
     "output_type": "stream",
     "text": [
      "1 2 2\n",
      "2 3 3\n",
      "3 2 3\n",
      "3 2\n"
     ]
    }
   ],
   "source": [
    "arr = [1,2,0,3,5,4,7]\n",
    "\n",
    "최대길이 = 1\n",
    "연속 = 1\n",
    "\n",
    "for i in range(1,len(arr)):\n",
    "    if arr[i-1] < arr[i]:\n",
    "        연속 += 1\n",
    "    else:\n",
    "        print(최대길이, 연속, max(최대길이, 연속))\n",
    "        최대길이 = max(최대길이, 연속)\n",
    "        연속 = 1\n",
    "\n",
    "최대길이 = max(최대길이, 연속)\n",
    "\n",
    "print(최대길이, 연속)"
   ]
  }
 ],
 "metadata": {
  "kernelspec": {
   "display_name": ".venv",
   "language": "python",
   "name": "python3"
  },
  "language_info": {
   "codemirror_mode": {
    "name": "ipython",
    "version": 3
   },
   "file_extension": ".py",
   "mimetype": "text/x-python",
   "name": "python",
   "nbconvert_exporter": "python",
   "pygments_lexer": "ipython3",
   "version": "3.11.9"
  }
 },
 "nbformat": 4,
 "nbformat_minor": 2
}
