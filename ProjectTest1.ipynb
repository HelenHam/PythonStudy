{
 "cells": [
  {
   "cell_type": "code",
   "execution_count": null,
   "metadata": {},
   "outputs": [],
   "source": [
    "import time\n",
    "import pandas as pd\n",
    "from selenium import webdriver\n",
    "from selenium.webdriver.common.by import By\n",
    "from selenium.webdriver.chrome.service import Service\n",
    "from selenium.webdriver.chrome.options import Options\n",
    "from webdriver_manager.chrome import ChromeDriverManager\n",
    "from bs4 import BeautifulSoup\n",
    "\n",
    "chrome_options = Options()\n",
    "chrome_options.add_argument(\"--headless\")\n",
    "chrome_options.add_argument(\"--no-sandbox\")\n",
    "chrome_options.add_argument(\"--disable-dev-shm-usage\")\n",
    "\n",
    "service = Service(ChromeDriverManager().install())\n",
    "driver = webdriver.Chrome(service=service, options=chrome_options)\n",
    "\n",
    "url = \"https://tickets.interpark.com/contents/genre/concert\"\n",
    "driver.get(url)\n",
    "time.sleep(5)\n",
    "\n",
    "last_height = driver.execute_script(\"return document.body.scrollHeight\")\n",
    "while True:\n",
    "    driver.execute_script(\"window.scrollTo(0, document.body.scrollHeight);\")\n",
    "    time.sleep(2)\n",
    "    new_height = driver.execute_script(\"return document.body.scrollHeight\")\n",
    "    if new_height == last_height:\n",
    "        break\n",
    "    last_height = new_height\n",
    "\n",
    "page_info = driver.page_source\n",
    "driver.quit()"
   ]
  },
  {
   "cell_type": "code",
   "execution_count": null,
   "metadata": {},
   "outputs": [],
   "source": [
    "soup = BeautifulSoup(page_info, \"html.parser\")\n",
    "\n",
    "\n",
    "concerts = []\n",
    "concert_list = soup.find_all(\"div\", class_=\"prdInfo\")\n",
    "for concert in concert_list:\n",
    "    title = "
   ]
  },
  {
   "cell_type": "code",
   "execution_count": null,
   "metadata": {},
   "outputs": [],
   "source": [
    "\n",
    "# def 데이터생성():    \n",
    "#     links = 상세화면주소()\n",
    "#     time.sleep(1)\n",
    "#     trs = driver.find_elements(By.CSS_SELECTOR, \"table.ranking_product_table > tbody > tr\")\n",
    "#     for i in range(len(trs)):\n",
    "#         title = trs[i].find_element(By.CSS_SELECTOR, \"span.ranking_product_title\").text\n",
    "#         rate = trs[i].find_element(By.CSS_SELECTOR, \"span.rate_percent\").text\n",
    "#         link = links[i]\n",
    "#         price = links[i].find_elements(By.CSS_SELECTOR, \"product_info_sublist\")\n",
    "#         items.append({\n",
    "#             \"title\": title,\n",
    "#             \"rate\": rate,\n",
    "#             \"price\": price,\n",
    "#             \"link\": link\n",
    "#         })\n",
    "#     return items"
   ]
  }
 ],
 "metadata": {
  "kernelspec": {
   "display_name": "Python 3",
   "language": "python",
   "name": "python3"
  },
  "language_info": {
   "name": "python",
   "version": "3.11.9"
  }
 },
 "nbformat": 4,
 "nbformat_minor": 2
}
