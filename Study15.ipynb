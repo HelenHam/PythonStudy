{
 "cells": [
  {
   "cell_type": "code",
   "execution_count": 27,
   "metadata": {},
   "outputs": [],
   "source": [
    "from requests import get\n",
    "from bs4 import BeautifulSoup as bs\n",
    "import pandas as pd"
   ]
  },
  {
   "cell_type": "code",
   "execution_count": null,
   "metadata": {},
   "outputs": [
    {
     "data": {
      "text/plain": [
       "(506, 5)"
      ]
     },
     "execution_count": 19,
     "metadata": {},
     "output_type": "execute_result"
    }
   ],
   "source": [
    "# df = pd.read_csv(\"서울특별시 서대문구_의류수거함 현황_20230301.csv\", encoding=\"euc-kr\", index_col=\"관리번호\").drop(\"연번\", axis=1)\n",
    "\n",
    "# clothes.sort_values(\"설치장소(도로명)\", ascending=True)\n",
    "# df.shape"
   ]
  },
  {
   "cell_type": "code",
   "execution_count": null,
   "metadata": {},
   "outputs": [
    {
     "name": "stdout",
     "output_type": "stream",
     "text": [
      "['In this example, we have created a header, three equal columns and a footer. On smaller screens, the columns will stack on top of each other.', 'Resize the browser window to see the responsive effect.', 'Note: The Grid Layout Module is not supported in Internet Explorer or Edge 15 eand earlier versions.', 'Footer']\n"
     ]
    }
   ],
   "source": [
    "# res = get(\"http://127.0.0.1:5500/html/page3.html\")\n",
    "# list = []\n",
    "\n",
    "# if res.status_code == 200:\n",
    "#     data = bs(res.text, \"html.parser\")\n",
    "#     # print(data)\n",
    "\n",
    "#     # print(data.p)\n",
    "#     # data.find(\"p\").text\n",
    "#     # data.find_all(\"p\") # 이건 리스트로 가져옴\n",
    "#     # print(data.select_one(\"p\"))\n",
    "#     # data.select(\"p\") # 다 같은 방식이지만 35는 리스트 형식으로 전부 출력\n",
    "\n",
    "# # print(data.select(\"p\")[2].text)\n",
    "\n",
    "#     for i in data.select(\"p\"):\n",
    "#        list.append(i.text)\n",
    "\n",
    "# print(list)"
   ]
  },
  {
   "cell_type": "code",
   "execution_count": null,
   "metadata": {},
   "outputs": [],
   "source": [
    "res = get(\"http://127.0.0.1:5500/html/page3.html\")\n",
    "list = []\n",
    "\n",
    "if res.status_code == 200:\n",
    "    data = bs(res.text, \"html.parser\")\n",
    "\n",
    "    for i in data.select(\"p\"):\n",
    "       list.append(i.text)\n",
    "\n",
    "print(list)"
   ]
  },
  {
   "cell_type": "code",
   "execution_count": 83,
   "metadata": {},
   "outputs": [],
   "source": [
    "def 데이터가져오기(url, callback):\n",
    "    res = get(url)\n",
    "    if res.status_code == 200:\n",
    "        return callback(bs(res.text, \"html.parser\"))\n",
    "    return \"\""
   ]
  },
  {
   "cell_type": "code",
   "execution_count": 79,
   "metadata": {},
   "outputs": [],
   "source": [
    "def 데이터추출(data):\n",
    "    list = []\n",
    "    for i in data.select(\"p\"):\n",
    "       list.append(i.text)\n",
    "    return list"
   ]
  },
  {
   "cell_type": "code",
   "execution_count": 84,
   "metadata": {},
   "outputs": [
    {
     "name": "stdout",
     "output_type": "stream",
     "text": [
      "['In this example, we have created a header, three equal columns and a footer. On smaller screens, the columns will stack on top of each other.', 'Resize the browser window to see the responsive effect.', 'Note: The Grid Layout Module is not supported in Internet Explorer or Edge 15 eand earlier versions.', 'Footer']\n"
     ]
    }
   ],
   "source": [
    "url = \"http://127.0.0.1:5500/html/page3.html\"\n",
    "\n",
    "# data = 데이터가져오기(url)\n",
    "# final = 데이터추출(data)\n",
    "\n",
    "# final = 데이터추출(데이터가져오기(url))\n",
    "\n",
    "final = 데이터가져오기(url, 데이터추출)\n",
    "\n",
    "print(final)"
   ]
  },
  {
   "cell_type": "code",
   "execution_count": null,
   "metadata": {},
   "outputs": [
    {
     "name": "stdout",
     "output_type": "stream",
     "text": [
      "Column2 1\n"
     ]
    }
   ],
   "source": [
    "res = \"http://127.0.0.1:5500/html/page3.html\"\n",
    "\n",
    "def 데이터추출2(data):\n",
    "    # list = data.select(\"div.middle\")\n",
    "    # list = data.select(\".middle\")\n",
    "    list = data.select(\"[style*=bbb]\")\n",
    "    print(list[0].text, len(list))\n",
    "\n",
    "데이터가져오기(url, 데이터추출2)"
   ]
  },
  {
   "cell_type": "code",
   "execution_count": null,
   "metadata": {},
   "outputs": [
    {
     "name": "stdout",
     "output_type": "stream",
     "text": [
      "Column2\n"
     ]
    }
   ],
   "source": [
    "res = get(\"http://127.0.0.1:5500/html/page3.html\")\n",
    "list = []\n",
    "\n",
    "if res.status_code == 200:\n",
    "    data = bs(res.text, \"html.parser\")\n",
    "    for i in data.select(\"div\"):\n",
    "        list.append(i.text)\n",
    "\n",
    "print(list[3])"
   ]
  },
  {
   "cell_type": "code",
   "execution_count": null,
   "metadata": {},
   "outputs": [],
   "source": [
    "res = \"http://127.0.0.1:5500/html/page3.html\"\n",
    "\n",
    "def 데이터추출2(data):\n",
    "    # list = data.select(\"div.middle\")\n",
    "    # list = data.select(\".middle\")\n",
    "    list = data.select(\"[style*=bbb]\")\n",
    "    print(list[0].text, len(list))\n",
    "\n",
    "데이터가져오기(url, 데이터추출2)"
   ]
  },
  {
   "cell_type": "code",
   "execution_count": 160,
   "metadata": {},
   "outputs": [],
   "source": [
    "html = \"\"\"\n",
    "<table class=\"tbl_home\">\n",
    "\t<caption>인기 검색 종목표<span>종목명에 대한 현재가,전일대비로 구분되어 있습니다.</span></caption>\n",
    "\t<colgroup>\n",
    "\t<col>\n",
    "\t<col width=\"60\">\n",
    "\t<col width=\"65\">\n",
    "\t</colgroup>\n",
    "\t<thead>\n",
    "\t<tr>\n",
    "\t<th scope=\"col\">구분</th>\n",
    "\t<th scope=\"col\">현재가</th>\n",
    "\t<th scope=\"col\">전일대비</th>\n",
    "\t</tr>\n",
    "\t</thead>\n",
    "\t<tbody>\n",
    "\n",
    "\t<tr class=\"up\"><th scope=\"row\"><em>1.</em><a href=\"/item/main.naver?code=005930\" onclick=\"clickcr(this, &quot;boa.list&quot;, &quot;005930&quot;, &quot;1&quot;, event);\">삼성전자</a></th><td>53,900</td><td><em class=\"bu_p bu_pup\"><span class=\"blind\">상승</span></em><span class=\"tah p11 red02\"> 800 </span></td></tr>\n",
    "\n",
    "\t<tr class=\"up\"><th scope=\"row\"><em>2.</em><a href=\"/item/main.naver?code=000660\" onclick=\"clickcr(this, &quot;boa.list&quot;, &quot;000660&quot;, &quot;2&quot;, event);\">SK하이닉스</a></th><td>175,100</td><td><em class=\"bu_p bu_pup\"><span class=\"blind\">상승</span></em><span class=\"tah p11 red02\"> 7,100 </span></td></tr>\n",
    "\n",
    "\t<tr class=\"down\"><th scope=\"row\"><em>3.</em><a href=\"/item/main.naver?code=035720\" onclick=\"clickcr(this, &quot;boa.list&quot;, &quot;035720&quot;, &quot;3&quot;, event);\">카카오</a></th><td>44,100</td><td><em class=\"bu_p bu_pdn\"><span class=\"blind\">하락</span></em><span class=\"tah p11 nv01\"> 2,500 </span></td></tr>\n",
    "\n",
    "\t<tr class=\"down\"><th scope=\"row\"><em>4.</em><a href=\"/item/main.naver?code=105560\" onclick=\"clickcr(this, &quot;boa.list&quot;, &quot;105560&quot;, &quot;4&quot;, event);\">KB금융</a></th><td>86,900</td><td><em class=\"bu_p bu_pdn\"><span class=\"blind\">하락</span></em><span class=\"tah p11 nv01\"> 8,500 </span></td></tr>\n",
    "\n",
    "\t<tr class=\"up\"><th scope=\"row\"><em>5.</em><a href=\"/item/main.naver?code=010130\" onclick=\"clickcr(this, &quot;boa.list&quot;, &quot;010130&quot;, &quot;5&quot;, event);\">고려아연</a></th><td>1,813,000</td><td><em class=\"bu_p bu_pup\"><span class=\"blind\">상승</span></em><span class=\"tah p11 red02\"> 142,000 </span></td></tr>\n",
    "\n",
    "\t</tbody>\n",
    "\t</table>\n",
    "\t<a href=\"/sise/lastsearch2.naver\" class=\"btn_more\" onclick=\"clickcr(this, 'boa.more', '', '', event);\"><em class=\"btn_more4\"><span class=\"blind\">인기 검색 종목 더보기</span></em></a>\n",
    "</div> \"\"\""
   ]
  },
  {
   "cell_type": "code",
   "execution_count": null,
   "metadata": {},
   "outputs": [
    {
     "data": {
      "text/html": [
       "<div>\n",
       "<style scoped>\n",
       "    .dataframe tbody tr th:only-of-type {\n",
       "        vertical-align: middle;\n",
       "    }\n",
       "\n",
       "    .dataframe tbody tr th {\n",
       "        vertical-align: top;\n",
       "    }\n",
       "\n",
       "    .dataframe thead th {\n",
       "        text-align: right;\n",
       "    }\n",
       "</style>\n",
       "<table border=\"1\" class=\"dataframe\">\n",
       "  <thead>\n",
       "    <tr style=\"text-align: right;\">\n",
       "      <th></th>\n",
       "      <th>현재 가격</th>\n",
       "      <th>변동가</th>\n",
       "    </tr>\n",
       "  </thead>\n",
       "  <tbody>\n",
       "    <tr>\n",
       "      <th>삼성전자</th>\n",
       "      <td>53900</td>\n",
       "      <td>800</td>\n",
       "    </tr>\n",
       "    <tr>\n",
       "      <th>SK하이닉스</th>\n",
       "      <td>175100</td>\n",
       "      <td>7100</td>\n",
       "    </tr>\n",
       "    <tr>\n",
       "      <th>카카오</th>\n",
       "      <td>44100</td>\n",
       "      <td>2500</td>\n",
       "    </tr>\n",
       "    <tr>\n",
       "      <th>KB금융</th>\n",
       "      <td>86900</td>\n",
       "      <td>8500</td>\n",
       "    </tr>\n",
       "    <tr>\n",
       "      <th>고려아연</th>\n",
       "      <td>1813000</td>\n",
       "      <td>142000</td>\n",
       "    </tr>\n",
       "  </tbody>\n",
       "</table>\n",
       "</div>"
      ],
      "text/plain": [
       "          현재 가격     변동가\n",
       "삼성전자      53900     800\n",
       "SK하이닉스   175100    7100\n",
       "카카오       44100    2500\n",
       "KB금융      86900    8500\n",
       "고려아연    1813000  142000"
      ]
     },
     "execution_count": 201,
     "metadata": {},
     "output_type": "execute_result"
    }
   ],
   "source": [
    "# print(html)\n",
    "\n",
    "data = bs(html, 'html.parser')\n",
    "trs = data.select(\"table.tbl_home > tbody > tr\")\n",
    "arr = []\n",
    "idx = []\n",
    "col = [\"현재 가격\", \"변동가\"]\n",
    "\n",
    "def delcom(data):\n",
    "    return int(data.replace(\",\",\"\"))\n",
    "\n",
    "for tr in trs:\n",
    "    idx.append(tr.select_one(\"th\").text[2:])\n",
    "\n",
    "    arr1 = []\n",
    "    # print(len(tr.select(\"td\")))\n",
    "    for td in tr.select(\"td\"):\n",
    "        # print(td.text)\n",
    "        # print(td.text, td.text.count(\" \"))\n",
    "        if td.text.count(\" \") > 0:\n",
    "            arr1.append(delcom(td.text[td.text.index(\" \"):].strip()))\n",
    "        else:\n",
    "            arr1.append(delcom(td.text))\n",
    "    arr.append(arr1)\n",
    "\n",
    "pd.DataFrame(arr, index=idx, columns=col)\n",
    "\n",
    "for i in data.select(\"table.tbl_home > tbody > tr\"):\n",
    "    good = i.text.replace(\"\\n\", \"\").replace(\"\\t\", \"\")\n",
    "    final.append(good)"
   ]
  },
  {
   "cell_type": "code",
   "execution_count": 216,
   "metadata": {},
   "outputs": [
    {
     "data": {
      "text/html": [
       "<div>\n",
       "<style scoped>\n",
       "    .dataframe tbody tr th:only-of-type {\n",
       "        vertical-align: middle;\n",
       "    }\n",
       "\n",
       "    .dataframe tbody tr th {\n",
       "        vertical-align: top;\n",
       "    }\n",
       "\n",
       "    .dataframe thead th {\n",
       "        text-align: right;\n",
       "    }\n",
       "</style>\n",
       "<table border=\"1\" class=\"dataframe\">\n",
       "  <thead>\n",
       "    <tr style=\"text-align: right;\">\n",
       "      <th></th>\n",
       "      <th>현재 가격</th>\n",
       "      <th>변동가</th>\n",
       "    </tr>\n",
       "  </thead>\n",
       "  <tbody>\n",
       "    <tr>\n",
       "      <th>삼성전자</th>\n",
       "      <td>54000</td>\n",
       "      <td>↑ 900</td>\n",
       "    </tr>\n",
       "    <tr>\n",
       "      <th>고려아연</th>\n",
       "      <td>1825000</td>\n",
       "      <td>↑ 154000</td>\n",
       "    </tr>\n",
       "    <tr>\n",
       "      <th>SK하이닉스</th>\n",
       "      <td>174200</td>\n",
       "      <td>↑ 6200</td>\n",
       "    </tr>\n",
       "    <tr>\n",
       "      <th>KB금융</th>\n",
       "      <td>86900</td>\n",
       "      <td>↓ 8500</td>\n",
       "    </tr>\n",
       "    <tr>\n",
       "      <th>카카오</th>\n",
       "      <td>44550</td>\n",
       "      <td>↓ 2050</td>\n",
       "    </tr>\n",
       "  </tbody>\n",
       "</table>\n",
       "</div>"
      ],
      "text/plain": [
       "          현재 가격       변동가\n",
       "삼성전자      54000     ↑ 900\n",
       "고려아연    1825000  ↑ 154000\n",
       "SK하이닉스   174200    ↑ 6200\n",
       "KB금융      86900    ↓ 8500\n",
       "카카오       44550    ↓ 2050"
      ]
     },
     "execution_count": 216,
     "metadata": {},
     "output_type": "execute_result"
    }
   ],
   "source": [
    "res = get(\"https://finance.naver.com/\")\n",
    "\n",
    "def delcom(data):\n",
    "    return data.replace(\",\",\"\").replace(\"\\n\",\"\").replace(\"\\t\",\"\").replace(\"상승\",\"↑ \").replace(\"하락\",\"↓ \")\n",
    "\n",
    "data = bs(res.text, 'html.parser')\n",
    "trs = data.select(\"div.aside_area.aside_popular > table.tbl_home > tbody > tr\")\n",
    "arr = []\n",
    "idx = []\n",
    "col = [\"현재 가격\", \"변동가\"]\n",
    "\n",
    "\n",
    "for tr in trs:\n",
    "    idx.append(tr.select_one(\"th\").text[2:])\n",
    "\n",
    "    arr1 = []\n",
    "    for td in tr.select(\"td\"):\n",
    "        if td.text.count(\" \") > 0:\n",
    "            arr1.append(delcom(td.text[td.text.index(\" \"):].strip()))\n",
    "        else:\n",
    "            arr1.append(delcom(td.text))\n",
    "    arr.append(arr1)\n",
    "\n",
    "pd.DataFrame(arr, index=idx, columns=col)\n"
   ]
  }
 ],
 "metadata": {
  "kernelspec": {
   "display_name": "Python 3",
   "language": "python",
   "name": "python3"
  },
  "language_info": {
   "codemirror_mode": {
    "name": "ipython",
    "version": 3
   },
   "file_extension": ".py",
   "mimetype": "text/x-python",
   "name": "python",
   "nbconvert_exporter": "python",
   "pygments_lexer": "ipython3",
   "version": "3.11.9"
  }
 },
 "nbformat": 4,
 "nbformat_minor": 2
}
