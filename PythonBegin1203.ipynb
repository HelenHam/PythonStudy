{
 "cells": [
  {
   "cell_type": "code",
   "execution_count": null,
   "metadata": {},
   "outputs": [
    {
     "name": "stdout",
     "output_type": "stream",
     "text": [
      "안녕하세용안녕하세용\n"
     ]
    }
   ],
   "source": [
    "# 111\n",
    "\n",
    "# user = input()\n",
    "print(user*2)"
   ]
  },
  {
   "cell_type": "code",
   "execution_count": null,
   "metadata": {},
   "outputs": [
    {
     "name": "stdout",
     "output_type": "stream",
     "text": [
      "40\n"
     ]
    }
   ],
   "source": [
    "# 112\n",
    "\n",
    "num = int(input())\n",
    "print(num + 10)"
   ]
  },
  {
   "cell_type": "code",
   "execution_count": 6,
   "metadata": {},
   "outputs": [
    {
     "name": "stdout",
     "output_type": "stream",
     "text": [
      "홀수\n"
     ]
    }
   ],
   "source": [
    "# 113\n",
    "\n",
    "num = int(input())\n",
    "if num % 2 == 0:\n",
    "    print(\"짝수\")\n",
    "else:\n",
    "    print(\"홀수\")"
   ]
  },
  {
   "cell_type": "code",
   "execution_count": 8,
   "metadata": {},
   "outputs": [
    {
     "name": "stdout",
     "output_type": "stream",
     "text": [
      "100\n"
     ]
    }
   ],
   "source": [
    "# 114\n",
    "\n",
    "num = int(input())\n",
    "if (num+20) > 255:\n",
    "    print(255)\n",
    "else:\n",
    "    print(num+20)"
   ]
  },
  {
   "cell_type": "code",
   "execution_count": 11,
   "metadata": {},
   "outputs": [
    {
     "name": "stdout",
     "output_type": "stream",
     "text": [
      "0\n"
     ]
    }
   ],
   "source": [
    "# 115\n",
    "\n",
    "num = int(input())\n",
    "if (num-20) > 255:\n",
    "    print(255)\n",
    "elif (num-20) < 0:\n",
    "    print(0)\n",
    "else:\n",
    "    print(num-20)"
   ]
  },
  {
   "cell_type": "code",
   "execution_count": 16,
   "metadata": {},
   "outputs": [
    {
     "name": "stdout",
     "output_type": "stream",
     "text": [
      "정각이 아닙니다.\n"
     ]
    }
   ],
   "source": [
    "# 116\n",
    "\n",
    "time = input(\"현재 시간: \")\n",
    "\n",
    "if time[-2:] == \"00\":\n",
    "    print(\"정각 입니다.\")\n",
    "else:\n",
    "    print(\"정각이 아닙니다.\")"
   ]
  },
  {
   "cell_type": "code",
   "execution_count": 20,
   "metadata": {},
   "outputs": [
    {
     "name": "stdout",
     "output_type": "stream",
     "text": [
      "오답입니다.\n"
     ]
    }
   ],
   "source": [
    "# 117\n",
    "\n",
    "user = input(\"좋아하는 과일은?\")\n",
    "fruit = [\"사과\", \"포도\", \"홍시\"]\n",
    "\n",
    "if user in fruit:\n",
    "    print(\"정답입니다.\")\n",
    "else:\n",
    "    print(\"오답입니다.\")"
   ]
  },
  {
   "cell_type": "code",
   "execution_count": 26,
   "metadata": {},
   "outputs": [
    {
     "name": "stdout",
     "output_type": "stream",
     "text": [
      "투자 경고 종목이 아닙니다.\n"
     ]
    }
   ],
   "source": [
    "# 118\n",
    "\n",
    "warn_investment_list = [\"Microsoft\", \"Google\", \"Naver\",\n",
    "                        \"Kakao\", \"SAMSUNG\", \"LG\"]\n",
    "\n",
    "obj = input(\"종목명을 입력해주세요: \")\n",
    "\n",
    "if obj in warn_investment_list:\n",
    "    print(\"투자 경고 종목입니다.\")\n",
    "else:\n",
    "    print(\"투자 경고 종목이 아닙니다.\")"
   ]
  },
  {
   "cell_type": "code",
   "execution_count": 30,
   "metadata": {},
   "outputs": [
    {
     "name": "stdout",
     "output_type": "stream",
     "text": [
      "정답입니다.\n"
     ]
    }
   ],
   "source": [
    "# 119\n",
    "\n",
    "fruit = {\"봄\" : \"딸기\", \"여름\" : \"토마토\", \"가을\" : \"사과\"}\n",
    "\n",
    "'''\n",
    "users = input(\"제가 제일 좋아하는 계절은: \")\n",
    "\n",
    "if users in fruit.keys():\n",
    "    print('정답입니다.')\n",
    "else:\n",
    "    print('오답입니다.')\n",
    "'''\n",
    "\n",
    "# 120\n",
    "\n",
    "userf = input(\"좋아하는 과일은?: \")\n",
    "\n",
    "if userf in fruit.values():\n",
    "    print('정답입니다.')\n",
    "else:\n",
    "    print('오답입니다.')"
   ]
  },
  {
   "cell_type": "code",
   "execution_count": 33,
   "metadata": {},
   "outputs": [
    {
     "name": "stdout",
     "output_type": "stream",
     "text": [
      "A\n"
     ]
    }
   ],
   "source": [
    "# 121\n",
    "\n",
    "u121 = input()\n",
    "\n",
    "if u121.islower() == True:\n",
    "    print(u121.upper())\n",
    "else:\n",
    "    print(u121.lower())"
   ]
  },
  {
   "cell_type": "code",
   "execution_count": 46,
   "metadata": {},
   "outputs": [
    {
     "name": "stdout",
     "output_type": "stream",
     "text": [
      "grade is E\n"
     ]
    }
   ],
   "source": [
    "# 122\n",
    "\n",
    "u122 = int(input())\n",
    "\n",
    "if (u122 <= 100) & (u122 >=81):\n",
    "    print(\"grade is A\")\n",
    "elif (u122 <= 80) & (u122 >=61):\n",
    "    print(\"grade is B\")\n",
    "elif (u122 <= 60) & (u122 >=41):\n",
    "    print(\"grade is C\")\n",
    "elif (u122 <= 40) & (u122 >=21):\n",
    "    print(\"grade is D\")\n",
    "else:\n",
    "    print(\"grade is E\")"
   ]
  },
  {
   "cell_type": "code",
   "execution_count": 49,
   "metadata": {},
   "outputs": [
    {
     "name": "stdout",
     "output_type": "stream",
     "text": [
      "7040.704000000001 원\n"
     ]
    }
   ],
   "source": [
    "# 123\n",
    "\n",
    "환율 = {'달러': 1167,\n",
    "      '엔': 1.096,\n",
    "      '유로': 1268,\n",
    "      '위안': 171}\n",
    "u123 = input()\n",
    "\n",
    "값, 권종 = u123.split(' ')\n",
    "print(float(값)*환율[권종], \"원\")"
   ]
  },
  {
   "cell_type": "code",
   "execution_count": 50,
   "metadata": {},
   "outputs": [
    {
     "name": "stdout",
     "output_type": "stream",
     "text": [
      "5425\n"
     ]
    }
   ],
   "source": [
    "# 124\n",
    "\n",
    "u1241 = int(input(\"number1: \"))\n",
    "u1242 = int(input(\"number2: \"))\n",
    "u1243 = int(input(\"number3: \"))\n",
    "\n",
    "if (u1241 >= u1242) & (u1241 >= u1243):\n",
    "    print(u1241)\n",
    "elif (u1242 >= u1241) & (u1242 >= u1243):\n",
    "    print(u1242)\n",
    "else:\n",
    "    print(u1243)"
   ]
  },
  {
   "cell_type": "code",
   "execution_count": 54,
   "metadata": {},
   "outputs": [
    {
     "name": "stdout",
     "output_type": "stream",
     "text": [
      "알수없음.\n"
     ]
    }
   ],
   "source": [
    "# 125\n",
    "\n",
    "u125 = input()\n",
    "u1251 = u125.split('-')\n",
    "\n",
    "if u1251[0] == '011':\n",
    "    print('당신은 SKT 사용자입니다.')\n",
    "elif u1251[0] == '016':\n",
    "    print('당신은 KT 사용자입니다.')\n",
    "elif u1251[0] == '019':\n",
    "    print('당신은 LGU 사용자입니다.')\n",
    "else:\n",
    "    print('알수없음.')"
   ]
  },
  {
   "cell_type": "code",
   "execution_count": 59,
   "metadata": {},
   "outputs": [
    {
     "name": "stdout",
     "output_type": "stream",
     "text": [
      "노원구\n"
     ]
    }
   ],
   "source": [
    "# 126\n",
    "\n",
    "u126 = input()\n",
    "\n",
    "if u126[:3] in ['010','011','012']:\n",
    "    print(\"강북구\")\n",
    "elif u126[:3] in ['013','014','015']:\n",
    "    print(\"도봉구\")\n",
    "elif u126[:3] in ['016','017','018','019']:\n",
    "    print(\"노원구\")\n",
    "else:\n",
    "    print(\"다른 지역입니다.\")"
   ]
  },
  {
   "cell_type": "code",
   "execution_count": 61,
   "metadata": {},
   "outputs": [
    {
     "name": "stdout",
     "output_type": "stream",
     "text": [
      "여자\n"
     ]
    }
   ],
   "source": [
    "# 127\n",
    "\n",
    "u127 = input()\n",
    "앞, 뒤 = u127.split('-')\n",
    "\n",
    "if 뒤[0] in ['1','3']:\n",
    "    print(\"남자\")\n",
    "else:\n",
    "    print(\"여자\")"
   ]
  },
  {
   "cell_type": "code",
   "execution_count": null,
   "metadata": {},
   "outputs": [
    {
     "name": "stdout",
     "output_type": "stream",
     "text": [
      "서울이 아닙니다.\n"
     ]
    }
   ],
   "source": [
    "# 128\n",
    "\n",
    "u128 = input()\n",
    "뒷자리 = u128.split('-')[1]\n",
    "\n",
    "if int(뒷자리[1:3]) <= 8 :\n",
    "    print(\"서울입니다.\")\n",
    "else:\n",
    "    print(\"서울이 아닙니다.\")"
   ]
  },
  {
   "cell_type": "code",
   "execution_count": 75,
   "metadata": {},
   "outputs": [
    {
     "name": "stdout",
     "output_type": "stream",
     "text": [
      "유효하지 않은 주민등록번호입니다.\n"
     ]
    }
   ],
   "source": [
    "# 129\n",
    "\n",
    "u129 = input()\n",
    "u1291 = u129.split('-')\n",
    "sum129 = 0\n",
    "\n",
    "for i in range(1,len(u1291)):\n",
    "    if i <= 8:\n",
    "        num129 = (int(u1291[i]) * (i+1))\n",
    "        sum129 += num129\n",
    "    else:\n",
    "        num129 = (int(u1291[i]) * (i-7))\n",
    "        sum129 += num129\n",
    "\n",
    "last = str(11 - (sum129 % 11))\n",
    "\n",
    "if last[-1] == u1291[-1]:\n",
    "    print('유효한 주민등록번호입니다.')\n",
    "else:\n",
    "    print('유효하지 않은 주민등록번호입니다.')"
   ]
  },
  {
   "cell_type": "code",
   "execution_count": 76,
   "metadata": {},
   "outputs": [
    {
     "name": "stdout",
     "output_type": "stream",
     "text": [
      "상승장\n"
     ]
    }
   ],
   "source": [
    "# 130\n",
    "\n",
    "import requests\n",
    "btc = requests.get(\"https://api.bithumb.com/public/ticker/\").json()['data']\n",
    "\n",
    "변동폭 = float(btc['max_price'])-float(btc['min_price'])\n",
    "시가 = float(btc['opening_price'])\n",
    "최고가 = float(btc['max_price'])\n",
    "\n",
    "if (시가+변동폭) > 최고가:\n",
    "    print('상승장')\n",
    "else:\n",
    "    print('하락장')"
   ]
  }
 ],
 "metadata": {
  "kernelspec": {
   "display_name": "Python 3",
   "language": "python",
   "name": "python3"
  },
  "language_info": {
   "codemirror_mode": {
    "name": "ipython",
    "version": 3
   },
   "file_extension": ".py",
   "mimetype": "text/x-python",
   "name": "python",
   "nbconvert_exporter": "python",
   "pygments_lexer": "ipython3",
   "version": "3.11.9"
  }
 },
 "nbformat": 4,
 "nbformat_minor": 2
}
