{
 "cells": [
  {
   "cell_type": "code",
   "execution_count": 15,
   "metadata": {},
   "outputs": [
    {
     "name": "stdout",
     "output_type": "stream",
     "text": [
      "X X O X X \n",
      "X O O O X \n",
      "O O O O O \n",
      "X O O O X \n",
      "X X O X X \n"
     ]
    }
   ],
   "source": [
    "# Q1\n",
    "\n",
    "grid = [\n",
    "    [1,2,3,4,5],\n",
    "    [1,2,3,4,5],\n",
    "    [1,2,3,4,5],\n",
    "    [1,2,3,4,5],\n",
    "    [1,2,3,4,5]]\n",
    "\n",
    "a = 0\n",
    "\n",
    "for i in grid:\n",
    "    b = 0\n",
    "    for j in i:\n",
    "        if a == 2 or b == 2:\n",
    "            print(\"O\", end=\" \")\n",
    "        elif (a == 1 or a == 3) and (b == 1 or b == 3):\n",
    "            print(\"O\", end=\" \")\n",
    "        else:\n",
    "            print(\"X\", end=\" \")\n",
    "        b += 1\n",
    "\n",
    "    a += 1\n",
    "    \n",
    "    print()\n"
   ]
  },
  {
   "cell_type": "code",
   "execution_count": null,
   "metadata": {},
   "outputs": [
    {
     "name": "stdout",
     "output_type": "stream",
     "text": [
      "O X X X X X X X X O \n",
      "X O X X X X X X O X \n",
      "X X O X X X X O X X \n",
      "X X X O X X O X X X \n",
      "X X X X O O X X X X \n",
      "X X X X O O X X X X \n",
      "X X X O X X O X X X \n",
      "X X O X X X X O X X \n",
      "X O X X X X X X O X \n",
      "O X X X X X X X X O \n"
     ]
    }
   ],
   "source": [
    "# Q2\n",
    "\n",
    "grid = [\n",
    "    [1,2,3,4,5,6,7,8,9,10], [1,2,3,4,5,6,7,8,9,10],\n",
    "    [1,2,3,4,5,6,7,8,9,10], [1,2,3,4,5,6,7,8,9,10],\n",
    "    [1,2,3,4,5,6,7,8,9,10], [1,2,3,4,5,6,7,8,9,10],\n",
    "    [1,2,3,4,5,6,7,8,9,10], [1,2,3,4,5,6,7,8,9,10],\n",
    "    [1,2,3,4,5,6,7,8,9,10], [1,2,3,4,5,6,7,8,9,10],]\n",
    "\n",
    "\n",
    "a = 0\n",
    "\n",
    "for i in grid:\n",
    "    b = 0\n",
    "    for j in i:\n",
    "        if a == b or (a+b) == 9:\n",
    "            print (\"O\", end=\" \")\n",
    "        else:\n",
    "            print (\"X\", end=\" \")\n",
    "        b += 1\n",
    "\n",
    "    print ()\n",
    "    a += 1\n"
   ]
  }
 ],
 "metadata": {
  "kernelspec": {
   "display_name": "Python 3",
   "language": "python",
   "name": "python3"
  },
  "language_info": {
   "codemirror_mode": {
    "name": "ipython",
    "version": 3
   },
   "file_extension": ".py",
   "mimetype": "text/x-python",
   "name": "python",
   "nbconvert_exporter": "python",
   "pygments_lexer": "ipython3",
   "version": "3.11.9"
  }
 },
 "nbformat": 4,
 "nbformat_minor": 2
}
